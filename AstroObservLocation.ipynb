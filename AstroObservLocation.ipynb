{
 "cells": [
  {
   "cell_type": "markdown",
   "metadata": {},
   "source": [
    "http://docs.astropy.org/en/stable/api/astropy.coordinates.EarthLocation.html#"
   ]
  },
  {
   "cell_type": "code",
   "execution_count": 1,
   "metadata": {
    "collapsed": true
   },
   "outputs": [],
   "source": [
    "import astropy"
   ]
  },
  {
   "cell_type": "code",
   "execution_count": 2,
   "metadata": {
    "collapsed": false
   },
   "outputs": [],
   "source": [
    "from astropy.coordinates import EarthLocation"
   ]
  },
  {
   "cell_type": "code",
   "execution_count": 3,
   "metadata": {
    "collapsed": false
   },
   "outputs": [
    {
     "data": {
      "text/plain": [
       "[u'Anglo-Australian Observatory',\n",
       " u'Apache Point',\n",
       " u'Apache Point Observatory',\n",
       " u'BAO',\n",
       " u'Beijing XingLong Observatory',\n",
       " u'Black Moshannon Observatory',\n",
       " u'Canada-France-Hawaii Telescope',\n",
       " u'Catalina Observatory',\n",
       " u'Cerro Pachon',\n",
       " u'Cerro Paranal',\n",
       " u'Cerro Tololo',\n",
       " u'Cerro Tololo Interamerican Observatory',\n",
       " u'Dominion Astrophysical Observatory',\n",
       " u'Gemini South',\n",
       " u'Hale Telescope',\n",
       " u'Haleakala Observatories',\n",
       " u'Keck Observatory',\n",
       " u'Kitt Peak',\n",
       " u'Kitt Peak National Observatory',\n",
       " u'La Silla Observatory',\n",
       " u'Large Binocular Telescope',\n",
       " u'Las Campanas Observatory',\n",
       " u'Lick Observatory',\n",
       " u'Lowell Observatory',\n",
       " u'Manastash Ridge Observatory',\n",
       " u'McDonald Observatory',\n",
       " u'Medicina',\n",
       " u'Medicina Dish',\n",
       " u'Michigan-Dartmouth-MIT Observatory',\n",
       " u'Mount Graham International Observatory',\n",
       " u'Mt Graham',\n",
       " u'Mt. Ekar 182 cm. Telescope',\n",
       " u'Mt. Stromlo Observatory',\n",
       " u'Multiple Mirror Telescope',\n",
       " u'NOV',\n",
       " u'National Observatory of Venezuela',\n",
       " u'Noto',\n",
       " u'Observatorio Astronomico Nacional, San Pedro Martir',\n",
       " u'Observatorio Astronomico Nacional, Tonantzintla',\n",
       " u'Palomar',\n",
       " u'Paranal Observatory',\n",
       " u'Roque de los Muchachos',\n",
       " u'SAAO',\n",
       " u'SALT',\n",
       " u'SRT',\n",
       " u'Siding Spring Observatory',\n",
       " u'Southern African Large Telescope',\n",
       " u'Subaru',\n",
       " u'Subaru Telescope',\n",
       " u'Sutherland',\n",
       " u'Vainu Bappu Observatory',\n",
       " u'W. M. Keck Observatory',\n",
       " u'Whipple',\n",
       " u'Whipple Observatory',\n",
       " u'aao',\n",
       " u'apo',\n",
       " u'bmo',\n",
       " u'cfht',\n",
       " u'ctio',\n",
       " u'dao',\n",
       " u'ekar',\n",
       " u'example_site',\n",
       " u'flwo',\n",
       " u'gemini_south',\n",
       " u'greenwich',\n",
       " u'haleakala',\n",
       " u'keck',\n",
       " u'kpno',\n",
       " u'lapalma',\n",
       " u'lasilla',\n",
       " u'lbt',\n",
       " u'lco',\n",
       " u'lick',\n",
       " u'lowell',\n",
       " u'mcdonald',\n",
       " u'mdm',\n",
       " u'medicina',\n",
       " u'mmt',\n",
       " u'mro',\n",
       " u'mso',\n",
       " u'mtbigelow',\n",
       " u'noto',\n",
       " u'paranal',\n",
       " u'salt',\n",
       " u'spm',\n",
       " u'srt',\n",
       " u'sso',\n",
       " u'tona',\n",
       " u'vbo']"
      ]
     },
     "execution_count": 3,
     "metadata": {},
     "output_type": "execute_result"
    }
   ],
   "source": [
    "EarthLocation.get_site_names()"
   ]
  },
  {
   "cell_type": "markdown",
   "metadata": {},
   "source": [
    "### Start with Greenwich\n",
    "\n",
    "Sometimes the server is not available."
   ]
  },
  {
   "cell_type": "code",
   "execution_count": 4,
   "metadata": {
    "collapsed": true
   },
   "outputs": [],
   "source": [
    "green=EarthLocation.of_site('greenwich')"
   ]
  },
  {
   "cell_type": "code",
   "execution_count": 5,
   "metadata": {
    "collapsed": false
   },
   "outputs": [
    {
     "data": {
      "text/plain": [
       "(<Longitude -0.001475 deg>,\n",
       " <Latitude 51.477811 deg>,\n",
       " <Quantity 46.00000000063389 m>)"
      ]
     },
     "execution_count": 5,
     "metadata": {},
     "output_type": "execute_result"
    }
   ],
   "source": [
    "green.to_geodetic()"
   ]
  },
  {
   "cell_type": "code",
   "execution_count": 6,
   "metadata": {
    "collapsed": false
   },
   "outputs": [],
   "source": [
    "lsst=EarthLocation.of_site('Cerro Pachon')"
   ]
  },
  {
   "cell_type": "markdown",
   "metadata": {},
   "source": [
    "## LSST site\n",
    "\n",
    "- Longitude = -70.7366833333333 deg\n",
    "-  Latitude = -30.240741666666672 deg\n",
    "-  Quantity = 2749.999999999238 m"
   ]
  },
  {
   "cell_type": "code",
   "execution_count": 7,
   "metadata": {
    "collapsed": false
   },
   "outputs": [
    {
     "data": {
      "text/plain": [
       "(<Longitude -70.7366833333333 deg>,\n",
       " <Latitude -30.240741666666672 deg>,\n",
       " <Quantity 2749.999999999238 m>)"
      ]
     },
     "execution_count": 7,
     "metadata": {},
     "output_type": "execute_result"
    }
   ],
   "source": [
    "lsst.to_geodetic()"
   ]
  },
  {
   "cell_type": "code",
   "execution_count": 8,
   "metadata": {
    "collapsed": true
   },
   "outputs": [],
   "source": [
    "ctio=EarthLocation.of_site('Cerro Tololo Interamerican Observatory')"
   ]
  },
  {
   "cell_type": "markdown",
   "metadata": {},
   "source": [
    "### CTIO Site\n",
    "- Longitude = -70.815 deg\n",
    "- Latitude  = -30.165277777777778 deg\n",
    "- Quantity  = 2214.9999999993697 m"
   ]
  },
  {
   "cell_type": "code",
   "execution_count": 9,
   "metadata": {
    "collapsed": false
   },
   "outputs": [
    {
     "data": {
      "text/plain": [
       "(<Longitude -70.815 deg>,\n",
       " <Latitude -30.165277777777778 deg>,\n",
       " <Quantity 2214.9999999993697 m>)"
      ]
     },
     "execution_count": 9,
     "metadata": {},
     "output_type": "execute_result"
    }
   ],
   "source": [
    "ctio.to_geodetic()"
   ]
  },
  {
   "cell_type": "markdown",
   "metadata": {},
   "source": [
    "### Cerro Paranal\n",
    "\n",
    "- Longitude = -70.40300000000002 deg\n",
    "- Latitude  = -24.625199999999996 deg\n",
    "- Quantity  = 2635.0000000009704 m"
   ]
  },
  {
   "cell_type": "code",
   "execution_count": 10,
   "metadata": {
    "collapsed": true
   },
   "outputs": [],
   "source": [
    "paranal= EarthLocation.of_site('Cerro Paranal')"
   ]
  },
  {
   "cell_type": "code",
   "execution_count": 11,
   "metadata": {
    "collapsed": false
   },
   "outputs": [
    {
     "data": {
      "text/plain": [
       "(<Longitude -70.40300000000002 deg>,\n",
       " <Latitude -24.625199999999996 deg>,\n",
       " <Quantity 2635.0000000009704 m>)"
      ]
     },
     "execution_count": 11,
     "metadata": {},
     "output_type": "execute_result"
    }
   ],
   "source": [
    "paranal.to_geodetic()"
   ]
  },
  {
   "cell_type": "code",
   "execution_count": 12,
   "metadata": {
    "collapsed": true
   },
   "outputs": [],
   "source": [
    "import geopy"
   ]
  },
  {
   "cell_type": "code",
   "execution_count": 13,
   "metadata": {
    "collapsed": true
   },
   "outputs": [],
   "source": [
    "#LSST site\n",
    "\n",
    "Longitude_lsst = -70.7366833333333 # deg\n",
    "Latitude_lsst = -30.240741666666672 #deg\n",
    "Altitude_lsst = 2749.999999999238 #m"
   ]
  },
  {
   "cell_type": "code",
   "execution_count": 14,
   "metadata": {
    "collapsed": true
   },
   "outputs": [],
   "source": [
    "#CTIO Site\n",
    "\n",
    "Longitude_ctio = -70.815 # deg\n",
    "Latitude_ctio = -30.165277777777778 #deg\n",
    "Altitude_ctio = 2214.9999999993697 #m"
   ]
  },
  {
   "cell_type": "code",
   "execution_count": 15,
   "metadata": {
    "collapsed": true
   },
   "outputs": [],
   "source": [
    "# Cerro Paranal\n",
    "\n",
    "Longitude_paranal = -70.40300000000002 #deg\n",
    "Latitude_paranal  = -24.625199999999996 #deg\n",
    "Altitude_paranal = 2635.0000000009704 #m"
   ]
  },
  {
   "cell_type": "code",
   "execution_count": 16,
   "metadata": {
    "collapsed": true
   },
   "outputs": [],
   "source": [
    "from geopy.geocoders import Nominatim\n",
    "geolocator = Nominatim()"
   ]
  },
  {
   "cell_type": "code",
   "execution_count": 17,
   "metadata": {
    "collapsed": false
   },
   "outputs": [
    {
     "data": {
      "text/plain": [
       "<geopy.geocoders.osm.Nominatim at 0x112ea5610>"
      ]
     },
     "execution_count": 17,
     "metadata": {},
     "output_type": "execute_result"
    }
   ],
   "source": [
    "geolocator\n"
   ]
  },
  {
   "cell_type": "code",
   "execution_count": 18,
   "metadata": {
    "collapsed": false
   },
   "outputs": [
    {
     "name": "stdout",
     "output_type": "stream",
     "text": [
      "('distance lsst-ctio', 11.262816083810105, ' km')\n",
      "('distance lsst-paranal', 623.1358801105474, ' km')\n"
     ]
    }
   ],
   "source": [
    "from geopy.distance import vincenty\n",
    "lsst_location = (Latitude_lsst, Longitude_lsst)\n",
    "ctio_location = (Latitude_ctio, Longitude_ctio)\n",
    "paranal_location = (Latitude_paranal, Longitude_paranal)\n",
    "\n",
    "d_lsst_ctio=vincenty(lsst_location, ctio_location).meters\n",
    "print('distance lsst-ctio',d_lsst_ctio/1000,' km')\n",
    "d_lsst_paranal=vincenty(lsst_location, paranal_location).meters\n",
    "print('distance lsst-paranal',d_lsst_paranal/1000,' km')"
   ]
  },
  {
   "cell_type": "code",
   "execution_count": null,
   "metadata": {
    "collapsed": true
   },
   "outputs": [],
   "source": []
  }
 ],
 "metadata": {
  "kernelspec": {
   "display_name": "Python 2",
   "language": "python",
   "name": "python2"
  },
  "language_info": {
   "codemirror_mode": {
    "name": "ipython",
    "version": 2
   },
   "file_extension": ".py",
   "mimetype": "text/x-python",
   "name": "python",
   "nbconvert_exporter": "python",
   "pygments_lexer": "ipython2",
   "version": "2.7.11"
  }
 },
 "nbformat": 4,
 "nbformat_minor": 0
}
