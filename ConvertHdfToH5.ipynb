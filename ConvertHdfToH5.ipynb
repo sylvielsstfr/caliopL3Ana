{
 "cells": [
  {
   "cell_type": "markdown",
   "metadata": {},
   "source": [
    "=========================================\n",
    "# Convert hdf files into hdf5\n",
    "=========================================\n",
    "### author : Sylvie Dagoret-Campagne\n",
    "### creation date May 18th 2016\n",
    "\n",
    "\n",
    "- The goal is to convert CALIPSO files in hdf format into an hdf5 format that can be open by\n",
    "python.\n",
    "\n",
    "- One year at a time"
   ]
  },
  {
   "cell_type": "code",
   "execution_count": 1,
   "metadata": {
    "collapsed": true
   },
   "outputs": [],
   "source": [
    "import os\n"
   ]
  },
  {
   "cell_type": "code",
   "execution_count": 38,
   "metadata": {
    "collapsed": false
   },
   "outputs": [],
   "source": [
    "year=2015\n",
    "path_root='/Volumes/DAGORETBACK/CALIPSO/DATA/ICARE/CALIOP/L3/CAL_LID_L3_APro_AllSky.v3.00'\n",
    "#           /Volumes/DAGORETBACK/CALIPSO/DATA/ICARE/CALIOP/L3/CAL_LID_L3_APro_AllSky.v3.00/2008\n",
    "fullpath_root=os.path.join(path_root,str(year))"
   ]
  },
  {
   "cell_type": "code",
   "execution_count": 39,
   "metadata": {
    "collapsed": false
   },
   "outputs": [
    {
     "name": "stdout",
     "output_type": "stream",
     "text": [
      "Current working directory /Volumes/DAGORETBACK/CALIPSO/DATA/ICARE/CALIOP/L3/CAL_LID_L3_APro_AllSky.v3.00/2015\n",
      "h4toh5 CAL_LID_L3_APro_AllSky-Standard-V3-00.2015-06D.hdf\n",
      "h4toh5 CAL_LID_L3_APro_AllSky-Standard-V3-00.2015-06N.hdf\n",
      "h4toh5 CAL_LID_L3_APro_AllSky-Standard-V3-00.2015-07D.hdf\n",
      "h4toh5 CAL_LID_L3_APro_AllSky-Standard-V3-00.2015-07N.hdf\n",
      "h4toh5 CAL_LID_L3_APro_AllSky-Standard-V3-00.2015-08D.hdf\n",
      "h4toh5 CAL_LID_L3_APro_AllSky-Standard-V3-00.2015-08N.hdf\n",
      "h4toh5 CAL_LID_L3_APro_AllSky-Standard-V3-00.2015-09D.hdf\n",
      "h4toh5 CAL_LID_L3_APro_AllSky-Standard-V3-00.2015-09N.hdf\n",
      "h4toh5 CAL_LID_L3_APro_AllSky-Standard-V3-00.2015-10D.hdf\n",
      "h4toh5 CAL_LID_L3_APro_AllSky-Standard-V3-00.2015-10N.hdf\n",
      "h4toh5 CAL_LID_L3_APro_AllSky-Standard-V3-00.2015-11D.hdf\n",
      "h4toh5 CAL_LID_L3_APro_AllSky-Standard-V3-00.2015-11N.hdf\n",
      "h4toh5 CAL_LID_L3_APro_AllSky-Standard-V3-00.2015-12D.hdf\n",
      "h4toh5 CAL_LID_L3_APro_AllSky-Standard-V3-00.2015-12N.hdf\n",
      "h4toh5 CAL_LID_L3_APro_AllSky-Standard-V3-00.2015-01D.hdf\n",
      "h4toh5 CAL_LID_L3_APro_AllSky-Standard-V3-00.2015-01N.hdf\n",
      "h4toh5 CAL_LID_L3_APro_AllSky-Standard-V3-00.2015-02D.hdf\n",
      "h4toh5 CAL_LID_L3_APro_AllSky-Standard-V3-00.2015-02N.hdf\n",
      "h4toh5 CAL_LID_L3_APro_AllSky-Standard-V3-00.2015-03D.hdf\n",
      "h4toh5 CAL_LID_L3_APro_AllSky-Standard-V3-00.2015-03N.hdf\n",
      "h4toh5 CAL_LID_L3_APro_AllSky-Standard-V3-00.2015-04D.hdf\n",
      "h4toh5 CAL_LID_L3_APro_AllSky-Standard-V3-00.2015-04N.hdf\n",
      "h4toh5 CAL_LID_L3_APro_AllSky-Standard-V3-00.2015-05D.hdf\n",
      "h4toh5 CAL_LID_L3_APro_AllSky-Standard-V3-00.2015-05N.hdf\n",
      "Current working directory /Volumes/DAGORETBACK/CALIPSO/DATA/ICARE/CALIOP/L3/CAL_LID_L3_APro_AllSky.v3.00/2015\n"
     ]
    }
   ],
   "source": [
    "olddir= os.getcwd()\n",
    "\n",
    "os.chdir(fullpath_root)\n",
    "# Check current working directory.\n",
    "\n",
    "retval = os.getcwd()\n",
    "print \"Current working directory %s\" % retval\n",
    "for fn in os.listdir('.'):\n",
    "    command='h4toh5 '+fn\n",
    "    print (command)\n",
    "    os.system(command)\n",
    "    \n",
    "if not os.path.exists('hdf5'):\n",
    "    os.makedirs('hdf5')\n",
    "os.system('mv *.h5 hdf5/.')\n",
    "\n",
    "if not os.path.exists('hdf4'):\n",
    "    os.makedirs('hdf4')\n",
    "os.system('mv *.hdf hdf4/.')\n",
    "\n",
    "\n",
    "retval = os.getcwd()\n",
    "print \"Current working directory %s\" % retval"
   ]
  },
  {
   "cell_type": "code",
   "execution_count": 30,
   "metadata": {
    "collapsed": false
   },
   "outputs": [
    {
     "data": {
      "text/plain": [
       "0"
      ]
     },
     "execution_count": 30,
     "metadata": {},
     "output_type": "execute_result"
    }
   ],
   "source": []
  },
  {
   "cell_type": "code",
   "execution_count": null,
   "metadata": {
    "collapsed": true
   },
   "outputs": [],
   "source": []
  }
 ],
 "metadata": {
  "kernelspec": {
   "display_name": "Python 2",
   "language": "python",
   "name": "python2"
  },
  "language_info": {
   "codemirror_mode": {
    "name": "ipython",
    "version": 2
   },
   "file_extension": ".py",
   "mimetype": "text/x-python",
   "name": "python",
   "nbconvert_exporter": "python",
   "pygments_lexer": "ipython2",
   "version": "2.7.11"
  }
 },
 "nbformat": 4,
 "nbformat_minor": 0
}
