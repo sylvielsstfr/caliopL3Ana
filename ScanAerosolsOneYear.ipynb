{
 "cells": [
  {
   "cell_type": "markdown",
   "metadata": {},
   "source": [
    "# Scan aerosols for LSST Site\n",
    "\n",
    "- Author :Sylvie Dagoret-Campagne\n",
    "\n",
    "- creation : Friday 22 April 2016\n"
   ]
  },
  {
   "cell_type": "code",
   "execution_count": 1,
   "metadata": {
    "collapsed": true
   },
   "outputs": [],
   "source": [
    "import os\n",
    "import matplotlib as mpl\n",
    "import matplotlib.pyplot as plt\n",
    "import numpy as np\n",
    "from mpl_toolkits.basemap import Basemap\n",
    "from matplotlib import colors\n",
    "from matplotlib.backends.backend_pdf import PdfPages\n",
    "import pandas as pd\n",
    "import h5py\n",
    "%matplotlib inline"
   ]
  },
  {
   "cell_type": "code",
   "execution_count": 2,
   "metadata": {
    "collapsed": true
   },
   "outputs": [],
   "source": [
    "path='/Users/dagoret-campagnesylvie/MacOsX/LSST/MyWork/CALIPSO/DATA/ICARE/CALIOP/L3/CAL_LID_L3_APro_AllSky.v3.00/CAL_LID_L3_APro_AllSky.v3.00/2013/hdf5'"
   ]
  },
  {
   "cell_type": "code",
   "execution_count": 6,
   "metadata": {
    "collapsed": false
   },
   "outputs": [
    {
     "name": "stdout",
     "output_type": "stream",
     "text": [
      "number of files  24\n"
     ]
    }
   ],
   "source": [
    "h5_files = [f for f in os.listdir(path) if f.endswith('.h5')]  \n",
    "#print(h5_files)\n",
    "full_h5file=h5_files\n",
    "ix=0\n",
    "nbfiles=0\n",
    "for file in h5_files:\n",
    "    fname = os.path.join(path, file)\n",
    "    full_h5file[ix]=fname\n",
    "    ix=ix+1 \n",
    "    nbfiles=nbfiles+1\n",
    "print 'number of files ',nbfiles"
   ]
  },
  {
   "cell_type": "code",
   "execution_count": 9,
   "metadata": {
    "collapsed": false
   },
   "outputs": [
    {
     "data": {
      "text/plain": [
       "'/Users/dagoret-campagnesylvie/MacOsX/LSST/MyWork/CALIPSO/DATA/ICARE/CALIOP/L3/CAL_LID_L3_APro_AllSky.v3.00/CAL_LID_L3_APro_AllSky.v3.00/2013/hdf5/CAL_LID_L3_APro_AllSky-Standard-V3-00.2013-01D.h5'"
      ]
     },
     "execution_count": 9,
     "metadata": {},
     "output_type": "execute_result"
    }
   ],
   "source": [
    "full_h5file[0]"
   ]
  },
  {
   "cell_type": "code",
   "execution_count": 10,
   "metadata": {
    "collapsed": false
   },
   "outputs": [],
   "source": [
    "h5f = h5py.File(full_h5file[0], \"r\")  # file on which one works"
   ]
  },
  {
   "cell_type": "code",
   "execution_count": 11,
   "metadata": {
    "collapsed": true
   },
   "outputs": [],
   "source": [
    "longitude=h5f['Longitude_Midpoint']   # shape =(1,72)"
   ]
  },
  {
   "cell_type": "code",
   "execution_count": 12,
   "metadata": {
    "collapsed": true
   },
   "outputs": [],
   "source": [
    "latitude=h5f['Latitude_Midpoint']     # shape = (1,85)"
   ]
  },
  {
   "cell_type": "code",
   "execution_count": 18,
   "metadata": {
    "collapsed": true
   },
   "outputs": [],
   "source": [
    "aod_mean=h5f['AOD_Mean']  # the data table we want to explore is the Aerosol Optical Depth\n",
    "                          # 85 rows in latitude, 70 columns in longitude"
   ]
  },
  {
   "cell_type": "code",
   "execution_count": 32,
   "metadata": {
    "collapsed": true
   },
   "outputs": [],
   "source": [
    "aod_shape=aod_mean.shape    # get the original size of the array\n",
    "aod_arr=np.array(aod_mean)  # convert in a numpy array\n",
    "aod_mean_clean=np.where(np.logical_and(aod_arr>0,aod_arr<1),aod_arr, 0 )  # clean the aod from creazy data"
   ]
  },
  {
   "cell_type": "code",
   "execution_count": 13,
   "metadata": {
    "collapsed": true
   },
   "outputs": [],
   "source": [
    "all_longitude=longitude[0,:]    # coordinates for X"
   ]
  },
  {
   "cell_type": "code",
   "execution_count": 14,
   "metadata": {
    "collapsed": true
   },
   "outputs": [],
   "source": [
    "all_latitude=latitude[0,:]      # coordinate for Y"
   ]
  },
  {
   "cell_type": "code",
   "execution_count": 15,
   "metadata": {
    "collapsed": true
   },
   "outputs": [],
   "source": [
    "#LSST site\n",
    "Longitude_lsst = -70.7366833333333 # deg\n",
    "Latitude_lsst = -30.240741666666672 #deg\n",
    "Altitude_lsst = 2749.999999999238 #m"
   ]
  },
  {
   "cell_type": "code",
   "execution_count": 37,
   "metadata": {
    "collapsed": true
   },
   "outputs": [],
   "source": [
    "lsst_long_indexes=np.where(np.logical_and(all_longitude>=Longitude_lsst-2.5, all_longitude<=Longitude_lsst+2.5))\n",
    "lsst_lat_indexes=np.where(np.logical_and(all_latitude>=Latitude_lsst-1, all_latitude<=Latitude_lsst+1))\n",
    "lsst_lat_index=lsst_lat_indexes[0]\n",
    "lsst_long_index=lsst_long_indexes[0]"
   ]
  },
  {
   "cell_type": "code",
   "execution_count": 38,
   "metadata": {
    "collapsed": false
   },
   "outputs": [
    {
     "name": "stdout",
     "output_type": "stream",
     "text": [
      "('lsst_long_indexes=', (array([21]),))\n",
      "('lsst_lat_indexes=', (array([27]),))\n",
      "('lsst_aod = ', array([ 0.00629611], dtype=float32))\n"
     ]
    }
   ],
   "source": [
    "print('lsst_long_indexes=',lsst_long_indexes)\n",
    "print('lsst_lat_indexes=',lsst_lat_indexes)\n",
    "print('lsst_aod = ',aod_mean_clean[lsst_lat_index,lsst_long_index])\n"
   ]
  },
  {
   "cell_type": "code",
   "execution_count": 39,
   "metadata": {
    "collapsed": true
   },
   "outputs": [],
   "source": [
    "all_aod=np.zeros(nbfiles)  # container for all AOD at LSST"
   ]
  },
  {
   "cell_type": "code",
   "execution_count": 42,
   "metadata": {
    "collapsed": true
   },
   "outputs": [],
   "source": [
    "for ifile in range(0,nbfiles):\n",
    "    h5f = h5py.File(full_h5file[ifile], \"r\")  # file on which one works\n",
    "    aod_mean=h5f['AOD_Mean']  # the data table we want to explore is the Aerosol Optical Depth\n",
    "                          # 85 rows in latitude, 70 columns in longitude\n",
    "    aod_shape=aod_mean.shape    # get the original size of the array\n",
    "    aod_arr=np.array(aod_mean)  # convert in a numpy array\n",
    "    aod_mean_clean=np.where(np.logical_and(aod_arr>0,aod_arr<1),aod_arr, 0 )  # clean the aod from creazy data\n",
    "    all_aod[ifile]=aod_mean_clean[lsst_lat_index,lsst_long_index]"
   ]
  },
  {
   "cell_type": "code",
   "execution_count": 43,
   "metadata": {
    "collapsed": false
   },
   "outputs": [
    {
     "name": "stdout",
     "output_type": "stream",
     "text": [
      "[ 0.00629611  0.061237    0.07816683  0.07896457  0.11917102  0.04637697\n",
      "  0.05107592  0.03644214  0.05375739  0.04790964  0.08512914  0.05255155\n",
      "  0.03879908  0.04470988  0.0402361   0.05887544  0.05158405  0.01491093\n",
      "  0.1146383   0.05198885  0.04776904  0.03378243  0.04155221  0.09709339]\n"
     ]
    }
   ],
   "source": [
    "print all_aod"
   ]
  },
  {
   "cell_type": "code",
   "execution_count": 45,
   "metadata": {
    "collapsed": false
   },
   "outputs": [
    {
     "data": {
      "text/plain": [
       "(array([ 1.,  1.,  0.,  0.,  1.,  2.,  3.,  4.,  4.,  2.,  0.,  0.,  2.,\n",
       "         1.,  0.,  0.,  1.,  0.,  0.,  2.]),\n",
       " array([ 0.00629611,  0.01193986,  0.01758361,  0.02322735,  0.0288711 ,\n",
       "         0.03451484,  0.04015859,  0.04580233,  0.05144608,  0.05708982,\n",
       "         0.06273357,  0.06837731,  0.07402106,  0.0796648 ,  0.08530855,\n",
       "         0.09095229,  0.09659604,  0.10223978,  0.10788353,  0.11352727,\n",
       "         0.11917102]),\n",
       " <a list of 20 Patch objects>)"
      ]
     },
     "execution_count": 45,
     "metadata": {},
     "output_type": "execute_result"
    },
    {
     "data": {
      "image/png": "[encoded data removed]",
      "text/plain": [
       "<matplotlib.figure.Figure at 0x1213c9810>"
      ]
     },
     "metadata": {},
     "output_type": "display_data"
    }
   ],
   "source": [
    "plt.hist(all_aod,20)"
   ]
  },
  {
   "cell_type": "code",
   "execution_count": 47,
   "metadata": {
    "collapsed": false
   },
   "outputs": [
    {
     "data": {
      "text/plain": [
       "[<matplotlib.lines.Line2D at 0x12225ab90>]"
      ]
     },
     "execution_count": 47,
     "metadata": {},
     "output_type": "execute_result"
    },
    {
     "data": {
      "image/png": "[encoded data removed]",
      "text/plain": [
       "<matplotlib.figure.Figure at 0x122189650>"
      ]
     },
     "metadata": {},
     "output_type": "display_data"
    }
   ],
   "source": [
    "plt.plot(range(0,nbfiles),all_aod)"
   ]
  },
  {
   "cell_type": "code",
   "execution_count": null,
   "metadata": {
    "collapsed": true
   },
   "outputs": [],
   "source": []
  }
 ],
 "metadata": {
  "kernelspec": {
   "display_name": "Python 2",
   "language": "python",
   "name": "python2"
  },
  "language_info": {
   "codemirror_mode": {
    "name": "ipython",
    "version": 2
   },
   "file_extension": ".py",
   "mimetype": "text/x-python",
   "name": "python",
   "nbconvert_exporter": "python",
   "pygments_lexer": "ipython2",
   "version": "2.7.11"
  }
 },
 "nbformat": 4,
 "nbformat_minor": 0
}
