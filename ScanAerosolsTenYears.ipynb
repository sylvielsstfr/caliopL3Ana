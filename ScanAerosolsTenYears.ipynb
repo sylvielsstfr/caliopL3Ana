{
 "cells": [
  {
   "cell_type": "markdown",
   "metadata": {},
   "source": [
    "# Scan LSST aerosols during 10 years\n",
    "\n",
    "- Author :Sylvie Dagoret-Campagne\n",
    "- affiliation : LAL,IN2P3,CNRS\n",
    "- organization : LSST \n",
    "\n",
    "- creation : Tuesday 2nd May 2016\n",
    "\n"
   ]
  },
  {
   "cell_type": "code",
   "execution_count": 26,
   "metadata": {
    "collapsed": true
   },
   "outputs": [],
   "source": [
    "import os\n",
    "import matplotlib as mpl\n",
    "import matplotlib.pyplot as plt\n",
    "import numpy as np\n",
    "from mpl_toolkits.basemap import Basemap\n",
    "from matplotlib import colors\n",
    "from matplotlib.backends.backend_pdf import PdfPages\n",
    "import pandas as pd\n",
    "import h5py\n",
    "%matplotlib inline\n",
    "from mpl_toolkits.basemap import Basemap\n",
    "import matplotlib.pyplot as plt\n",
    "import libCaliopAOD as cal"
   ]
  },
  {
   "cell_type": "code",
   "execution_count": 27,
   "metadata": {
    "collapsed": true
   },
   "outputs": [],
   "source": [
    "#from __future__ import print_function\n",
    "import datetime\n",
    "from matplotlib.dates import MonthLocator, WeekdayLocator,DateFormatter\n",
    "from matplotlib.dates import MONDAY"
   ]
  },
  {
   "cell_type": "code",
   "execution_count": 28,
   "metadata": {
    "collapsed": true
   },
   "outputs": [],
   "source": [
    "year_start=2007   # choose the month number\n",
    "year_stop=2015   # choose the month number\n",
    "month_start=0      # choose first month\n",
    "month_stop=11      # choose last month\n",
    "month_numbers=np.arange(month_start,month_stop+1)\n",
    "month_stringnumber=['01','02','03','04','05','06','07','08','09','10','11','12']"
   ]
  },
  {
   "cell_type": "code",
   "execution_count": 29,
   "metadata": {
    "collapsed": true
   },
   "outputs": [],
   "source": [
    "path_root='/Users/dagoret-campagnesylvie/MacOsX/LSST/MyWork/CALIPSO/DATA/ICARE/CALIOP/L3/CAL_LID_L3_APro_AllSky.v3.00/CAL_LID_L3_APro_AllSky.v3.00'"
   ]
  },
  {
   "cell_type": "code",
   "execution_count": 30,
   "metadata": {
    "collapsed": true
   },
   "outputs": [],
   "source": [
    "filename_base='CAL_LID_L3_APro_AllSky-Standard-V3-00' # "
   ]
  },
  {
   "cell_type": "code",
   "execution_count": 31,
   "metadata": {
    "collapsed": true
   },
   "outputs": [],
   "source": [
    "nb_of_years=year_stop-year_start+1                               # number of years   \n",
    "number_of_monthes_per_year=month_numbers.shape[0]               # number of months per year\n",
    "total_number_of_monthes=number_of_monthes_per_year*nb_of_years  # total number of monthes over years"
   ]
  },
  {
   "cell_type": "markdown",
   "metadata": {},
   "source": [
    "### defines constants"
   ]
  },
  {
   "cell_type": "code",
   "execution_count": 32,
   "metadata": {
    "collapsed": false
   },
   "outputs": [],
   "source": [
    "data_dates=np.array(datetime.date(year_start,month_start+1,1))"
   ]
  },
  {
   "cell_type": "code",
   "execution_count": 33,
   "metadata": {
    "collapsed": false
   },
   "outputs": [],
   "source": [
    "path_root='/Users/dagoret-campagnesylvie/MacOsX/LSST/MyWork/CALIPSO/DATA/ICARE/CALIOP/L3/CAL_LID_L3_APro_AllSky.v3.00/CAL_LID_L3_APro_AllSky.v3.00'\n",
    "fullpath_root=os.path.join(os.path.join(path_root,str(2007)),'hdf5')\n",
    "filename_base='CAL_LID_L3_APro_AllSky-Standard-V3-00' "
   ]
  },
  {
   "cell_type": "code",
   "execution_count": 34,
   "metadata": {
    "collapsed": false
   },
   "outputs": [],
   "source": [
    "dayfile_extension= str(year_start)+'-'+month_stringnumber[month_start]+'D'+'.h5'\n",
    "nightfile_extension=str(year_start)+'-'+month_stringnumber[month_start]+'N'+'.h5'\n",
    "dayfile_fullname=os.path.join(fullpath_root,filename_base+'.'+dayfile_extension)\n",
    "nightfile_fullname=os.path.join(fullpath_root,filename_base+'.'+nightfile_extension)\n",
    "dayfiles_fullname=np.array(dayfile_fullname)\n",
    "nightfiles_fullname=np.array(nightfile_fullname)"
   ]
  },
  {
   "cell_type": "markdown",
   "metadata": {},
   "source": [
    "### defines the list of dates and filenames for days and night"
   ]
  },
  {
   "cell_type": "code",
   "execution_count": 35,
   "metadata": {
    "collapsed": false
   },
   "outputs": [],
   "source": [
    "for year in range(2007,2016,1):\n",
    "    fullpath_root=os.path.join(os.path.join(path_root,str(2007)),'hdf5')   \n",
    "    for month in range(1,13):\n",
    "        if not (year == 2007 and month ==1):\n",
    "            dayfile_extension= str(year)+'-'+month_stringnumber[month-1]+'D'+'.h5'\n",
    "            nightfile_extension=str(year)+'-'+month_stringnumber[month-1]+'N'+'.h5'\n",
    "            dayfiles_fullname=np.append(dayfiles_fullname,os.path.join(fullpath_root,filename_base+'.'+dayfile_extension))\n",
    "            nightfiles_fullname=np.append(nightfiles_fullname,os.path.join(fullpath_root,filename_base+'.'+nightfile_extension))\n",
    "            data_dates= np.append( data_dates , datetime.date(year,month,1))"
   ]
  },
  {
   "cell_type": "markdown",
   "metadata": {},
   "source": [
    "### Extract data from the files using the library"
   ]
  },
  {
   "cell_type": "code",
   "execution_count": 36,
   "metadata": {
    "collapsed": false
   },
   "outputs": [],
   "source": [
    "temperatures=cal.GetL3Value(dayfiles_fullname[0],'Temperature_Mean') # vector quantities\n",
    "pressures=cal.GetL3Value(dayfiles_fullname[0],'Pressure_Mean')\n",
    "humidity=cal.GetL3Value(dayfiles_fullname[0],'Relative_Humidity_Mean')\n",
    "altitudes=cal.GetL3APAltitudes()\n",
    "altitudes_depth=cal.GetL3APAltitudesDepth()*1000.  # depth in meters\n",
    "thealtitudes=altitudes[0:len(temperatures)]"
   ]
  },
  {
   "cell_type": "code",
   "execution_count": 37,
   "metadata": {
    "collapsed": false
   },
   "outputs": [
    {
     "data": {
      "text/plain": [
       "<matplotlib.text.Text at 0x10d17b110>"
      ]
     },
     "execution_count": 37,
     "metadata": {},
     "output_type": "execute_result"
    },
    {
     "data": {
      "image/png": "[encoded data removed]",
      "text/plain": [
       "<matplotlib.figure.Figure at 0x11e589b50>"
      ]
     },
     "metadata": {},
     "output_type": "display_data"
    }
   ],
   "source": [
    "fig=plt.figure(figsize=(8,6))\n",
    "ax=fig.add_subplot(1,1,1)\n",
    "ax.plot(altitudes)\n",
    "title= \"LSST site altitudes\"\n",
    "ax.set_ylabel('altitudes in km')\n",
    "ax.set_xlabel(' index ')\n",
    "ax.grid(True)\n",
    "plt.title(title)"
   ]
  },
  {
   "cell_type": "code",
   "execution_count": 38,
   "metadata": {
    "collapsed": false
   },
   "outputs": [
    {
     "data": {
      "text/plain": [
       "60.0"
      ]
     },
     "execution_count": 38,
     "metadata": {},
     "output_type": "execute_result"
    },
    {
     "data": {
      "image/png": "[encoded data removed]",
      "text/plain": [
       "<matplotlib.figure.Figure at 0x11e5911d0>"
      ]
     },
     "metadata": {},
     "output_type": "display_data"
    }
   ],
   "source": [
    "fig=plt.figure(figsize=(8,6))\n",
    "ax=fig.add_subplot(1,1,1)\n",
    "ax.plot(altitudes_depth)\n",
    "title= \"LSST site altitudes\"\n",
    "ax.set_ylabel('altitudes depth (m)')\n",
    "ax.set_xlabel(' index ')\n",
    "ax.grid(True)\n",
    "plt.title(title)\n",
    "altitudes_depth"
   ]
  },
  {
   "cell_type": "code",
   "execution_count": 39,
   "metadata": {
    "collapsed": false
   },
   "outputs": [
    {
     "data": {
      "text/plain": [
       "<matplotlib.text.Text at 0x11ec62b50>"
      ]
     },
     "execution_count": 39,
     "metadata": {},
     "output_type": "execute_result"
    },
    {
     "data": {
      "image/png": "[encoded data removed]",
      "text/plain": [
       "<matplotlib.figure.Figure at 0x11e971710>"
      ]
     },
     "metadata": {},
     "output_type": "display_data"
    }
   ],
   "source": [
    "fig=plt.figure(figsize=(8,6))\n",
    "ax=fig.add_subplot(1,1,1)\n",
    "#ax.plot(temperatures,np.arange(0,temperatures.size))\n",
    "ax.plot(temperatures,thealtitudes)\n",
    "title= \"LSST site Temperature profile\"\n",
    "ax.set_ylabel('Altitude in km')\n",
    "ax.set_xlabel('Temperature ($^o$C)')\n",
    "ax.grid(True)\n",
    "plt.title(title)"
   ]
  },
  {
   "cell_type": "code",
   "execution_count": 40,
   "metadata": {
    "collapsed": false
   },
   "outputs": [
    {
     "data": {
      "text/plain": [
       "<matplotlib.text.Text at 0x11ee68650>"
      ]
     },
     "execution_count": 40,
     "metadata": {},
     "output_type": "execute_result"
    },
    {
     "data": {
      "image/png": "[encoded data removed]",
      "text/plain": [
       "<matplotlib.figure.Figure at 0x11ecb7650>"
      ]
     },
     "metadata": {},
     "output_type": "display_data"
    }
   ],
   "source": [
    "fig=plt.figure(figsize=(8,6))\n",
    "ax=fig.add_subplot(1,1,1)\n",
    "ax.plot(pressures,thealtitudes)\n",
    "title= \"LSST site Pressure profile\"\n",
    "ax.set_ylabel('altitudes in km')\n",
    "ax.set_xlabel('Pressure')\n",
    "ax.grid(True)\n",
    "plt.title(title)"
   ]
  },
  {
   "cell_type": "code",
   "execution_count": null,
   "metadata": {
    "collapsed": true
   },
   "outputs": [],
   "source": []
  },
  {
   "cell_type": "code",
   "execution_count": 41,
   "metadata": {
    "collapsed": false
   },
   "outputs": [
    {
     "data": {
      "text/plain": [
       "<matplotlib.text.Text at 0x11f0698d0>"
      ]
     },
     "execution_count": 41,
     "metadata": {},
     "output_type": "execute_result"
    },
    {
     "data": {
      "image/png": "[encoded data removed]",
      "text/plain": [
       "<matplotlib.figure.Figure at 0x11f022250>"
      ]
     },
     "metadata": {},
     "output_type": "display_data"
    }
   ],
   "source": [
    "fig=plt.figure(figsize=(8,6))\n",
    "ax=fig.add_subplot(1,1,1)\n",
    "ax.plot(humidity,thealtitudes)\n",
    "title= \"LSST site Relative humidity profile\"\n",
    "ax.set_ylabel('altitudes in km')\n",
    "ax.set_xlabel('Humidity')\n",
    "ax.grid(True)\n",
    "plt.title(title)"
   ]
  },
  {
   "cell_type": "code",
   "execution_count": 42,
   "metadata": {
    "collapsed": true
   },
   "outputs": [],
   "source": [
    "import air\n",
    "import humidity as hum"
   ]
  },
  {
   "cell_type": "code",
   "execution_count": 43,
   "metadata": {
    "collapsed": false
   },
   "outputs": [
    {
     "name": "stdout",
     "output_type": "stream",
     "text": [
      "iz 0 alt =  -0.4 RH = 66.2506  P=  1058.08 T = 19.3249 esat= 2221.67 pwv= 0.0 sumpwv= 0.0\n",
      "iz 1 alt =  -0.34 RH = 67.7522  P=  1050.71 T = 18.9962 esat= 2176.56 pwv= 0.0 sumpwv= 0.0\n",
      "iz 2 alt =  -0.28 RH = 69.2538  P=  1043.39 T = 18.6675 esat= 2132.25 pwv= 0.0 sumpwv= 0.0\n",
      "iz 3 alt =  -0.22 RH = 70.7554  P=  1036.12 T = 18.3388 esat= 2088.73 pwv= 0.0 sumpwv= 0.0\n",
      "iz 4 alt =  -0.16 RH = 72.257  P=  1028.9 T = 18.0101 esat= 2046.0 pwv= 0.0 sumpwv= 0.0\n",
      "iz 5 alt =  -0.1 RH = 73.7585  P=  1021.73 T = 17.6814 esat= 2004.03 pwv= 0.0 sumpwv= 0.0\n",
      "iz 6 alt =  -0.04 RH = 75.2601  P=  1014.62 T = 17.3528 esat= 1962.81 pwv= 0.0 sumpwv= 0.0\n",
      "iz 7 alt =  0.02 RH = 76.7617  P=  1007.55 T = 17.0241 esat= 1922.35 pwv= 0.0 sumpwv= 0.0\n",
      "iz 8 alt =  0.08 RH = 78.2633  P=  1000.53 T = 16.6954 esat= 1882.61 pwv= 0.0 sumpwv= 0.0\n",
      "iz 9 alt =  0.14 RH = 79.7648  P=  993.557 T = 16.3667 esat= 1843.6 pwv= 0.0 sumpwv= 0.0\n",
      "iz 10 alt =  0.2 RH = 81.2664  P=  986.635 T = 16.038 esat= 1805.3 pwv= 0.0 sumpwv= 0.0\n",
      "iz 11 alt =  0.26 RH = 82.768  P=  979.762 T = 15.7093 esat= 1767.7 pwv= 0.0 sumpwv= 0.0\n",
      "iz 12 alt =  0.32 RH = 83.8267  P=  972.933 T = 15.4036 esat= 1733.35 pwv= 0.0 sumpwv= 0.0\n",
      "iz 13 alt =  0.38 RH = 82.0601  P=  966.132 T = 15.2333 esat= 1714.47 pwv= 0.0 sumpwv= 0.0\n",
      "iz 14 alt =  0.44 RH = 79.7705  P=  959.375 T = 15.086 esat= 1698.28 pwv= 0.0 sumpwv= 0.0\n",
      "iz 15 alt =  0.5 RH = 77.4809  P=  952.666 T = 14.9386 esat= 1682.22 pwv= 0.0 sumpwv= 0.0\n",
      "iz 16 alt =  0.56 RH = 74.2033  P=  946.008 T = 14.8877 esat= 1676.7 pwv= 0.0 sumpwv= 0.0\n",
      "iz 17 alt =  0.62 RH = 68.4345  P=  939.396 T = 15.04 esat= 1693.26 pwv= 0.0 sumpwv= 0.0\n",
      "iz 18 alt =  0.68 RH = 62.5172  P=  932.831 T = 15.2036 esat= 1711.2 pwv= 0.0 sumpwv= 0.0\n",
      "iz 19 alt =  0.74 RH = 56.5999  P=  926.31 T = 15.3672 esat= 1729.3 pwv= 0.0 sumpwv= 0.0\n",
      "iz 20 alt =  0.8 RH = 51.8341  P=  919.842 T = 15.4933 esat= 1743.37 pwv= 0.0 sumpwv= 0.0\n",
      "iz 21 alt =  0.86 RH = 48.4732  P=  913.422 T = 15.5881 esat= 1754.01 pwv= 0.0 sumpwv= 0.0\n",
      "iz 22 alt =  0.92 RH = 45.1122  P=  907.048 T = 15.6828 esat= 1764.7 pwv= 0.0 sumpwv= 0.0\n",
      "iz 23 alt =  0.98 RH = 41.751  P=  900.718 T = 15.7769 esat= 1775.38 pwv= 0.0 sumpwv= 0.0\n",
      "iz 24 alt =  1.04 RH = 39.5133  P=  894.433 T = 15.7787 esat= 1775.58 pwv= 0.0 sumpwv= 0.0\n",
      "iz 25 alt =  1.1 RH = 37.866  P=  888.192 T = 15.7343 esat= 1770.54 pwv= 0.0 sumpwv= 0.0\n",
      "iz 26 alt =  1.16 RH = 36.2186  P=  881.993 T = 15.69 esat= 1765.51 pwv= 0.0 sumpwv= 0.0\n",
      "iz 27 alt =  1.22 RH = 34.5697  P=  875.838 T = 15.6457 esat= 1760.5 pwv= 0.0 sumpwv= 0.0\n",
      "iz 28 alt =  1.28 RH = 33.1487  P=  869.723 T = 15.5958 esat= 1754.88 pwv= 0.0 sumpwv= 0.0\n",
      "iz 29 alt =  1.34 RH = 32.1201  P=  863.648 T = 15.5441 esat= 1749.06 pwv= 0.0 sumpwv= 0.0\n",
      "iz 30 alt =  1.4 RH = 31.0915  P=  857.617 T = 15.4923 esat= 1743.26 pwv= 0.0 sumpwv= 0.0\n",
      "iz 31 alt =  1.46 RH = 30.063  P=  851.628 T = 15.4406 esat= 1737.47 pwv= 0.0 sumpwv= 0.0\n",
      "iz 32 alt =  1.52 RH = 29.0891  P=  845.677 T = 15.3976 esat= 1732.67 pwv= 0.0 sumpwv= 0.0\n",
      "iz 33 alt =  1.58 RH = 28.425  P=  839.764 T = 15.3553 esat= 1727.98 pwv= 0.0 sumpwv= 0.0\n",
      "iz 34 alt =  1.64 RH = 27.7609  P=  833.893 T = 15.313 esat= 1723.28 pwv= 0.0 sumpwv= 0.0\n",
      "iz 35 alt =  1.7 RH = 27.0968  P=  828.063 T = 15.2708 esat= 1718.6 pwv= 0.0 sumpwv= 0.0\n",
      "iz 36 alt =  1.76 RH = 28.0705  P=  822.271 T = 15.2121 esat= 1712.12 pwv= 0.0 sumpwv= 0.0\n",
      "iz 37 alt =  1.82 RH = 27.4675  P=  816.513 T = 15.1119 esat= 1701.12 pwv= 0.0 sumpwv= 0.0\n",
      "iz 38 alt =  1.88 RH = 26.8439  P=  810.795 T = 15.0116 esat= 1690.15 pwv= 0.0 sumpwv= 0.0\n",
      "iz 39 alt =  1.94 RH = 26.2202  P=  805.118 T = 14.9112 esat= 1679.25 pwv= 0.0 sumpwv= 0.0\n",
      "iz 40 alt =  2.0 RH = 25.6939  P=  799.472 T = 14.8038 esat= 1667.65 pwv= 0.0 sumpwv= 0.0\n",
      "iz 41 alt =  2.06 RH = 39.7414  P=  793.824 T = 14.5329 esat= 1638.7 pwv= 0.0 sumpwv= 0.0\n",
      "iz 42 alt =  2.12 RH = 39.5648  P=  788.21 T = 14.2145 esat= 1605.24 pwv= 0.0 sumpwv= 0.0\n",
      "iz 43 alt =  2.18 RH = 39.3882  P=  782.636 T = 13.8961 esat= 1572.38 pwv= 0.0 sumpwv= 0.0\n",
      "iz 44 alt =  2.24 RH = 39.2116  P=  777.101 T = 13.5778 esat= 1540.11 pwv= 0.0 sumpwv= 0.0\n",
      "iz 45 alt =  2.3 RH = 39.035  P=  771.606 T = 13.2594 esat= 1508.43 pwv= 0.0 sumpwv= 0.0\n",
      "iz 46 alt =  2.36 RH = 38.8584  P=  766.149 T = 12.941 esat= 1477.33 pwv= 0.0 sumpwv= 0.0\n",
      "iz 47 alt =  2.42 RH = 38.6818  P=  760.731 T = 12.6226 esat= 1446.79 pwv= 0.0 sumpwv= 0.0\n",
      "iz 48 alt =  2.48 RH = 38.5052  P=  755.351 T = 12.3042 esat= 1416.8 pwv= 0.0 sumpwv= 0.0\n",
      "iz 49 alt =  2.54 RH = 38.3318  P=  750.003 T = 11.9822 esat= 1387.03 pwv= 0.0 sumpwv= 0.0\n",
      "iz 50 alt =  2.6 RH = 38.0315  P=  744.637 T = 11.6444 esat= 1356.39 pwv= 0.0 sumpwv= 0.0\n",
      "iz 51 alt =  2.66 RH = 37.6857  P=  739.297 T = 11.305 esat= 1326.21 pwv= 0.0 sumpwv= 0.0\n",
      "iz 52 alt =  2.72 RH = 37.3399  P=  733.995 T = 10.9656 esat= 1296.63 pwv= 0.0221696 sumpwv= 0.0221696\n",
      "iz 53 alt =  2.78 RH = 36.9941  P=  728.732 T = 10.6263 esat= 1267.62 pwv= 0.0214987 sumpwv= 0.0436683\n",
      "iz 54 alt =  2.84 RH = 36.6483  P=  723.506 T = 10.2869 esat= 1239.2 pwv= 0.0208451 sumpwv= 0.0645134\n",
      "iz 55 alt =  2.9 RH = 36.3025  P=  718.317 T = 9.94753 esat= 1211.33 pwv= 0.0202083 sumpwv= 0.0847217\n",
      "iz 56 alt =  2.96 RH = 35.9567  P=  713.166 T = 9.60817 esat= 1184.02 pwv= 0.019588 sumpwv= 0.10431\n",
      "iz 57 alt =  3.02 RH = 35.6109  P=  708.052 T = 9.2688 esat= 1157.25 pwv= 0.0189839 sumpwv= 0.123294\n",
      "iz 58 alt =  3.08 RH = 35.2652  P=  702.974 T = 8.9295 esat= 1131.02 pwv= 0.0183956 sumpwv= 0.141689\n",
      "iz 59 alt =  3.14 RH = 33.6666  P=  697.912 T = 8.59953 esat= 1106.02 pwv= 0.0171936 sumpwv= 0.158883\n",
      "iz 60 alt =  3.2 RH = 32.3298  P=  692.854 T = 8.31907 esat= 1085.15 pwv= 0.0162155 sumpwv= 0.175098\n",
      "iz 61 alt =  3.26 RH = 30.9929  P=  687.833 T = 8.03861 esat= 1064.63 pwv= 0.0152663 sumpwv= 0.190365\n",
      "iz 62 alt =  3.32 RH = 29.6561  P=  682.848 T = 7.75814 esat= 1044.46 pwv= 0.0143453 sumpwv= 0.20471\n",
      "iz 63 alt =  3.38 RH = 28.3193  P=  677.899 T = 7.47768 esat= 1024.62 pwv= 0.0134519 sumpwv= 0.218162\n",
      "iz 64 alt =  3.44 RH = 26.9825  P=  672.986 T = 7.19722 esat= 1005.11 pwv= 0.0125855 sumpwv= 0.230747\n",
      "iz 65 alt =  3.5 RH = 25.6457  P=  668.109 T = 6.91675 esat= 985.937 pwv= 0.0117455 sumpwv= 0.242493\n",
      "iz 66 alt =  3.56 RH = 24.3089  P=  663.267 T = 6.63629 esat= 967.086 pwv= 0.0109314 sumpwv= 0.253424\n",
      "iz 67 alt =  3.62 RH = 22.9721  P=  658.46 T = 6.35582 esat= 948.552 pwv= 0.0101424 sumpwv= 0.263567\n",
      "iz 68 alt =  3.68 RH = 21.6353  P=  653.688 T = 6.07536 esat= 930.331 pwv= 0.00937812 sumpwv= 0.272945\n",
      "iz 69 alt =  3.74 RH = 20.7845  P=  648.933 T = 5.77873 esat= 911.398 pwv= 0.00883538 sumpwv= 0.28178\n",
      "iz 70 alt =  3.8 RH = 20.2453  P=  644.173 T = 5.42993 esat= 889.574 pwv= 0.00841062 sumpwv= 0.290191\n",
      "iz 71 alt =  3.86 RH = 19.7231  P=  639.445 T = 5.07832 esat= 868.04 pwv= 0.00800545 sumpwv= 0.298196\n",
      "iz 72 alt =  3.92 RH = 19.2009  P=  634.752 T = 4.72672 esat= 846.969 pwv= 0.00761395 sumpwv= 0.30581\n",
      "iz 73 alt =  3.98 RH = 18.6788  P=  630.094 T = 4.37511 esat= 826.352 pwv= 0.00723574 sumpwv= 0.313046\n",
      "iz 74 alt =  4.04 RH = 18.1566  P=  625.469 T = 4.0235 esat= 806.177 pwv= 0.00687046 sumpwv= 0.319916\n",
      "iz 75 alt =  4.1 RH = 17.6344  P=  620.879 T = 3.67189 esat= 786.442 pwv= 0.00651779 sumpwv= 0.326434\n",
      "iz 76 alt =  4.16 RH = 17.1122  P=  616.322 T = 3.32028 esat= 767.133 pwv= 0.00617734 sumpwv= 0.332611\n",
      "iz 77 alt =  4.22 RH = 16.59  P=  611.798 T = 2.96868 esat= 748.246 pwv= 0.00584883 sumpwv= 0.33846\n",
      "iz 78 alt =  4.28 RH = 16.0678  P=  607.308 T = 2.61707 esat= 729.771 pwv= 0.00553192 sumpwv= 0.343992\n",
      "iz 79 alt =  4.34 RH = 15.5456  P=  602.851 T = 2.26546 esat= 711.703 pwv= 0.00522629 sumpwv= 0.349218\n",
      "iz 80 alt =  4.4 RH = 15.0986  P=  598.399 T = 1.90629 esat= 693.653 pwv= 0.00495372 sumpwv= 0.354172\n",
      "iz 81 alt =  4.46 RH = 14.7379  P=  593.94 T = 1.52897 esat= 675.13 pwv= 0.00471273 sumpwv= 0.358885\n",
      "iz 82 alt =  4.52 RH = 14.384  P=  589.513 T = 1.15017 esat= 656.979 pwv= 0.0044821 sumpwv= 0.363367\n",
      "iz 83 alt =  4.58 RH = 14.0302  P=  585.119 T = 0.771366 esat= 639.259 pwv= 0.00425982 sumpwv= 0.367627\n",
      "iz 84 alt =  4.64 RH = 13.6764  P=  580.758 T = 0.392563 esat= 621.965 pwv= 0.00404565 sumpwv= 0.371672\n",
      "iz 85 alt =  4.7 RH = 13.3225  P=  576.429 T = 0.0137599 esat= 605.085 pwv= 0.00383934 sumpwv= 0.375512\n",
      "iz 86 alt =  4.76 RH = 12.9687  P=  572.133 T = -0.365042 esat= 588.614 pwv= 0.00364069 sumpwv= 0.379153\n",
      "iz 87 alt =  4.82 RH = 12.6149  P=  567.869 T = -0.743845 esat= 572.543 pwv= 0.00344946 sumpwv= 0.382602\n",
      "iz 88 alt =  4.88 RH = 12.261  P=  563.636 T = -1.12265 esat= 556.859 pwv= 0.00326541 sumpwv= 0.385867\n",
      "iz 89 alt =  4.94 RH = 11.9072  P=  559.435 T = -1.50145 esat= 541.56 pwv= 0.00308835 sumpwv= 0.388956\n",
      "iz 90 alt =  5.0 RH = 11.5533  P=  555.265 T = -1.88025 esat= 526.634 pwv= 0.00291806 sumpwv= 0.391874\n",
      "iz 91 alt =  5.06 RH = 11.25  P=  551.122 T = -2.26093 esat= 512.004 pwv= 0.0027664 sumpwv= 0.39464\n",
      "iz 92 alt =  5.12 RH = 11.3005  P=  546.968 T = -2.65844 esat= 497.113 pwv= 0.00270195 sumpwv= 0.397342\n",
      "iz 93 alt =  5.18 RH = 11.431  P=  542.822 T = -3.07153 esat= 482.046 pwv= 0.00265438 sumpwv= 0.399997\n",
      "iz 94 alt =  5.24 RH = 11.5614  P=  538.708 T = -3.48484 esat= 467.381 pwv= 0.00260697 sumpwv= 0.402603\n",
      "iz 95 alt =  5.3 RH = 11.6918  P=  534.625 T = -3.89815 esat= 453.111 pwv= 0.00255982 sumpwv= 0.405163\n",
      "iz 96 alt =  5.36 RH = 11.8222  P=  530.573 T = -4.31146 esat= 439.23 pwv= 0.00251294 sumpwv= 0.407676\n",
      "iz 97 alt =  5.42 RH = 11.9527  P=  526.552 T = -4.72477 esat= 425.73 pwv= 0.00246636 sumpwv= 0.410143\n",
      "iz 98 alt =  5.48 RH = 12.0831  P=  522.561 T = -5.13808 esat= 412.598 pwv= 0.0024201 sumpwv= 0.412563\n",
      "iz 99 alt =  5.54 RH = 12.2135  P=  518.6 T = -5.55139 esat= 399.828 pwv= 0.00237417 sumpwv= 0.414937\n",
      "iz 100 alt =  5.6 RH = 12.3439  P=  514.67 T = -5.9647 esat= 387.412 pwv= 0.0023286 sumpwv= 0.417265\n",
      "iz 101 alt =  5.66 RH = 12.4743  P=  510.769 T = -6.37801 esat= 375.339 pwv= 0.00228341 sumpwv= 0.419549\n",
      "iz 102 alt =  5.72 RH = 12.6047  P=  506.898 T = -6.79132 esat= 363.602 pwv= 0.0022386 sumpwv= 0.421787\n",
      "iz 103 alt =  5.78 RH = 12.7365  P=  503.056 T = -7.20468 esat= 352.192 pwv= 0.00219443 sumpwv= 0.423982\n",
      "iz 104 alt =  5.84 RH = 13.1005  P=  499.216 T = -7.63371 esat= 340.689 pwv= 0.00218695 sumpwv= 0.426169\n",
      "iz 105 alt =  5.9 RH = 13.7188  P=  495.361 T = -8.08442 esat= 328.965 pwv= 0.00221513 sumpwv= 0.428384\n",
      "iz 106 alt =  5.96 RH = 14.3908  P=  491.526 T = -8.54185 esat= 317.435 pwv= 0.00224607 sumpwv= 0.43063\n",
      "iz 107 alt =  6.02 RH = 15.0628  P=  487.721 T = -8.99928 esat= 306.267 pwv= 0.00227217 sumpwv= 0.432902\n",
      "iz 108 alt =  6.08 RH = 15.7348  P=  483.945 T = -9.45671 esat= 295.449 pwv= 0.00229368 sumpwv= 0.435196\n",
      "iz 109 alt =  6.14 RH = 16.4068  P=  480.198 T = -9.91414 esat= 284.975 pwv= 0.00231085 sumpwv= 0.437507\n",
      "iz 110 alt =  6.2 RH = 17.0788  P=  476.48 T = -10.3716 esat= 274.833 pwv= 0.00232394 sumpwv= 0.439831\n",
      "iz 111 alt =  6.26 RH = 17.7508  P=  472.791 T = -10.829 esat= 265.014 pwv= 0.00233314 sumpwv= 0.442164\n",
      "iz 112 alt =  6.32 RH = 18.4228  P=  469.131 T = -11.2864 esat= 255.509 pwv= 0.0023387 sumpwv= 0.444502\n",
      "iz 113 alt =  6.38 RH = 19.0949  P=  465.499 T = -11.7439 esat= 246.31 pwv= 0.00234083 sumpwv= 0.446843\n",
      "iz 114 alt =  6.44 RH = 19.7669  P=  461.895 T = -12.2013 esat= 237.408 pwv= 0.00233973 sumpwv= 0.449183\n",
      "iz 115 alt =  6.5 RH = 20.4389  P=  458.319 T = -12.6587 esat= 228.794 pwv= 0.00233559 sumpwv= 0.451519\n",
      "iz 116 alt =  6.56 RH = 21.1109  P=  454.771 T = -13.1162 esat= 220.46 pwv= 0.0023286 sumpwv= 0.453847\n",
      "iz 117 alt =  6.62 RH = 21.6555  P=  451.241 T = -13.5692 esat= 212.475 pwv= 0.00230618 sumpwv= 0.456153\n",
      "iz 118 alt =  6.68 RH = 21.7979  P=  447.696 T = -14.0138 esat= 204.891 pwv= 0.00224233 sumpwv= 0.458396\n",
      "iz 119 alt =  6.74 RH = 22.0381  P=  444.143 T = -14.471 esat= 197.346 pwv= 0.00218742 sumpwv= 0.460583\n",
      "iz 120 alt =  6.8 RH = 22.3102  P=  440.614 T = -14.9294 esat= 190.031 pwv= 0.00213613 sumpwv= 0.462719\n",
      "iz 121 alt =  6.86 RH = 22.5823  P=  437.113 T = -15.3879 esat= 182.958 pwv= 0.00208541 sumpwv= 0.464805\n",
      "iz 122 alt =  6.92 RH = 22.8544  P=  433.64 T = -15.8463 esat= 176.123 pwv= 0.00203531 sumpwv= 0.46684\n",
      "iz 123 alt =  6.98 RH = 23.1265  P=  430.195 T = -16.3048 esat= 169.516 pwv= 0.00198583 sumpwv= 0.468826\n",
      "iz 124 alt =  7.04 RH = 23.3986  P=  426.777 T = -16.7632 esat= 163.133 pwv= 0.00193699 sumpwv= 0.470763\n",
      "iz 125 alt =  7.1 RH = 23.6707  P=  423.386 T = -17.2217 esat= 156.965 pwv= 0.00188882 sumpwv= 0.472652\n",
      "iz 126 alt =  7.16 RH = 23.9428  P=  420.022 T = -17.6801 esat= 151.007 pwv= 0.00184132 sumpwv= 0.474493\n",
      "iz 127 alt =  7.22 RH = 24.2149  P=  416.685 T = -18.1386 esat= 145.253 pwv= 0.0017945 sumpwv= 0.476287\n",
      "iz 128 alt =  7.28 RH = 24.487  P=  413.375 T = -18.597 esat= 139.696 pwv= 0.00174839 sumpwv= 0.478036\n",
      "iz 129 alt =  7.34 RH = 24.7591  P=  410.09 T = -19.0555 esat= 134.331 pwv= 0.00170298 sumpwv= 0.479739\n",
      "iz 130 alt =  7.4 RH = 25.0312  P=  406.832 T = -19.5139 esat= 129.151 pwv= 0.0016583 sumpwv= 0.481397\n",
      "iz 131 alt =  7.46 RH = 25.3038  P=  403.6 T = -19.9723 esat= 124.151 pwv= 0.00161438 sumpwv= 0.483011\n",
      "iz 132 alt =  7.52 RH = 25.7641  P=  400.373 T = -20.4287 esat= 119.346 pwv= 0.00158299 sumpwv= 0.484594\n",
      "iz 133 alt =  7.58 RH = 26.5002  P=  397.137 T = -20.8878 esat= 114.683 pwv= 0.00156744 sumpwv= 0.486162\n",
      "iz 134 alt =  7.64 RH = 27.4938  P=  393.896 T = -21.3431 esat= 110.219 pwv= 0.00156574 sumpwv= 0.487728\n",
      "iz 135 alt =  7.7 RH = 28.5314  P=  390.68 T = -21.7976 esat= 105.92 pwv= 0.00156429 sumpwv= 0.489292\n",
      "iz 136 alt =  7.76 RH = 29.569  P=  387.489 T = -22.2521 esat= 101.772 pwv= 0.00156051 sumpwv= 0.490852\n",
      "iz 137 alt =  7.82 RH = 30.6067  P=  384.325 T = -22.7066 esat= 97.7706 pwv= 0.00155458 sumpwv= 0.492407\n",
      "iz 138 alt =  7.88 RH = 31.6443  P=  381.187 T = -23.1611 esat= 93.9113 pwv= 0.00154665 sumpwv= 0.493954\n",
      "iz 139 alt =  7.94 RH = 32.6819  P=  378.074 T = -23.6156 esat= 90.1893 pwv= 0.00153685 sumpwv= 0.495491\n",
      "iz 140 alt =  8.0 RH = 33.7196  P=  374.986 T = -24.07 esat= 86.6005 pwv= 0.00152533 sumpwv= 0.497016\n",
      "iz 141 alt =  8.06 RH = 34.7572  P=  371.924 T = -24.5245 esat= 83.1407 pwv= 0.00151222 sumpwv= 0.498528\n",
      "iz 142 alt =  8.12 RH = 35.7948  P=  368.887 T = -24.979 esat= 79.8057 pwv= 0.00149763 sumpwv= 0.500026\n",
      "iz 143 alt =  8.18 RH = 36.8324  P=  365.875 T = -25.4335 esat= 76.5916 pwv= 0.00148169 sumpwv= 0.501507\n",
      "iz 144 alt =  8.24 RH = 37.8701  P=  362.886 T = -25.888 esat= 73.4942 pwv= 0.00146452 sumpwv= 0.502972\n",
      "iz 145 alt =  8.3 RH = 38.9077  P=  359.923 T = -26.3425 esat= 70.5103 pwv= 0.00144621 sumpwv= 0.504418\n",
      "iz 146 alt =  8.36 RH = 39.9453  P=  356.984 T = -26.7969 esat= 67.6358 pwv= 0.00142688 sumpwv= 0.505845\n",
      "iz 147 alt =  8.42 RH = 40.983  P=  354.069 T = -27.2514 esat= 64.8672 pwv= 0.00140662 sumpwv= 0.507252\n",
      "iz 148 alt =  8.48 RH = 42.0707  P=  351.162 T = -27.7032 esat= 62.2168 pwv= 0.0013875 sumpwv= 0.508639\n",
      "iz 149 alt =  8.54 RH = 43.2967  P=  348.249 T = -28.16 esat= 59.6366 pwv= 0.00137128 sumpwv= 0.51001\n",
      "iz 150 alt =  8.6 RH = 44.1897  P=  345.326 T = -28.5737 esat= 57.3832 pwv= 0.00134895 sumpwv= 0.511359\n",
      "iz 151 alt =  8.66 RH = 44.8831  P=  342.422 T = -28.9737 esat= 55.2779 pwv= 0.00132201 sumpwv= 0.512681\n",
      "iz 152 alt =  8.72 RH = 45.5765  P=  339.542 T = -29.3737 esat= 53.2424 pwv= 0.00129513 sumpwv= 0.513977\n",
      "iz 153 alt =  8.78 RH = 46.2698  P=  336.686 T = -29.7737 esat= 51.2749 pwv= 0.00126833 sumpwv= 0.515245\n",
      "iz 154 alt =  8.84 RH = 46.9632  P=  333.855 T = -30.1737 esat= 49.373 pwv= 0.00124163 sumpwv= 0.516487\n",
      "iz 155 alt =  8.9 RH = 47.6566  P=  331.047 T = -30.5737 esat= 47.5352 pwv= 0.00121506 sumpwv= 0.517702\n",
      "iz 156 alt =  8.96 RH = 48.35  P=  328.263 T = -30.9737 esat= 45.759 pwv= 0.00118864 sumpwv= 0.51889\n",
      "iz 157 alt =  9.02 RH = 49.0434  P=  325.502 T = -31.3737 esat= 44.0433 pwv= 0.0011624 sumpwv= 0.520053\n",
      "iz 158 alt =  9.08 RH = 49.7368  P=  322.765 T = -31.7737 esat= 42.3857 pwv= 0.00113635 sumpwv= 0.521189\n",
      "iz 159 alt =  9.14 RH = 50.4302  P=  320.05 T = -32.1737 esat= 40.7847 pwv= 0.00111051 sumpwv= 0.522299\n",
      "iz 160 alt =  9.2 RH = 51.1236  P=  317.359 T = -32.5737 esat= 39.2384 pwv= 0.0010849 sumpwv= 0.523384\n",
      "iz 161 alt =  9.26 RH = 51.817  P=  314.69 T = -32.9737 esat= 37.7454 pwv= 0.00105954 sumpwv= 0.524444\n",
      "iz 162 alt =  9.32 RH = 52.5104  P=  312.043 T = -33.3737 esat= 36.3039 pwv= 0.00103443 sumpwv= 0.525478\n",
      "iz 163 alt =  9.38 RH = 53.2037  P=  309.419 T = -33.7737 esat= 34.9123 pwv= 0.0010096 sumpwv= 0.526488\n",
      "iz 164 alt =  9.44 RH = 53.8971  P=  306.817 T = -34.1737 esat= 33.569 pwv= 0.000985056 sumpwv= 0.527473\n",
      "iz 165 alt =  9.5 RH = 54.5905  P=  304.237 T = -34.5737 esat= 32.2728 pwv= 0.000960811 sumpwv= 0.528434\n",
      "iz 166 alt =  9.56 RH = 54.8442  P=  301.665 T = -34.9671 esat= 31.0421 pwv= 0.000930002 sumpwv= 0.529364\n",
      "iz 167 alt =  9.62 RH = 54.6956  P=  299.09 T = -35.3565 esat= 29.8659 pwv= 0.0008938 sumpwv= 0.530258\n",
      "iz 168 alt =  9.68 RH = 54.5812  P=  296.51 T = -35.762 esat= 28.6842 pwv= 0.000858104 sumpwv= 0.531116\n",
      "iz 169 alt =  9.74 RH = 54.4365  P=  293.931 T = -36.1944 esat= 27.4709 pwv= 0.000821125 sumpwv= 0.531937\n",
      "iz 170 alt =  9.8 RH = 54.2917  P=  291.375 T = -36.6267 esat= 26.3042 pwv= 0.000785594 sumpwv= 0.532722\n",
      "iz 171 alt =  9.86 RH = 54.1469  P=  288.841 T = -37.0591 esat= 25.1824 pwv= 0.000751461 sumpwv= 0.533474\n",
      "iz 172 alt =  9.92 RH = 54.0021  P=  286.329 T = -37.4915 esat= 24.1043 pwv= 0.000718682 sumpwv= 0.534193\n",
      "iz 173 alt =  9.98 RH = 53.8573  P=  283.839 T = -37.9238 esat= 23.068 pwv= 0.000687202 sumpwv= 0.53488\n",
      "iz 174 alt =  10.04 RH = 53.7125  P=  281.371 T = -38.3562 esat= 22.0723 pwv= 0.000656979 sumpwv= 0.535537\n",
      "iz 175 alt =  10.1 RH = 53.5677  P=  278.924 T = -38.7886 esat= 21.1156 pwv= 0.000627968 sumpwv= 0.536165\n",
      "iz 176 alt =  10.16 RH = 53.4229  P=  276.498 T = -39.2209 esat= 20.1967 pwv= 0.000600124 sumpwv= 0.536765\n",
      "iz 177 alt =  10.22 RH = 53.2781  P=  274.094 T = -39.6533 esat= 19.3142 pwv= 0.000573406 sumpwv= 0.537338\n",
      "iz 178 alt =  10.28 RH = 53.1333  P=  271.71 T = -40.0857 esat= 18.4668 pwv= 0.000547773 sumpwv= 0.537886\n",
      "iz 179 alt =  10.34 RH = 52.9885  P=  269.347 T = -40.5181 esat= 17.6532 pwv= 0.000523184 sumpwv= 0.538409\n",
      "iz 180 alt =  10.4 RH = 52.8437  P=  267.005 T = -40.9504 esat= 16.8723 pwv= 0.000499603 sumpwv= 0.538909\n",
      "iz 181 alt =  10.46 RH = 52.6989  P=  264.683 T = -41.3828 esat= 16.1227 pwv= 0.000476989 sumpwv= 0.539386\n",
      "iz 182 alt =  10.52 RH = 52.5541  P=  262.381 T = -41.8152 esat= 15.4036 pwv= 0.000455312 sumpwv= 0.539841\n",
      "iz 183 alt =  10.58 RH = 52.4093  P=  260.099 T = -42.2475 esat= 14.7137 pwv= 0.000434532 sumpwv= 0.540276\n",
      "iz 184 alt =  10.64 RH = 52.2645  P=  257.837 T = -42.6799 esat= 14.0519 pwv= 0.000414619 sumpwv= 0.54069\n",
      "iz 185 alt =  10.7 RH = 52.1197  P=  255.595 T = -43.1123 esat= 13.4173 pwv= 0.000395539 sumpwv= 0.541086\n",
      "iz 186 alt =  10.76 RH = 51.9689  P=  253.371 T = -43.536 esat= 12.8207 pwv= 0.000377554 sumpwv= 0.541463\n",
      "iz 187 alt =  10.82 RH = 51.8388  P=  251.154 T = -43.9046 esat= 12.3214 pwv= 0.000362525 sumpwv= 0.541826\n",
      "iz 188 alt =  10.88 RH = 51.5934  P=  248.937 T = -44.2537 esat= 11.8649 pwv= 0.000347972 sumpwv= 0.542174\n",
      "iz 189 alt =  10.94 RH = 51.053  P=  246.716 T = -44.5973 esat= 11.4306 pwv= 0.000332222 sumpwv= 0.542506\n",
      "iz 190 alt =  11.0 RH = 50.2429  P=  244.488 T = -44.9378 esat= 11.0146 pwv= 0.000315523 sumpwv= 0.542822\n",
      "iz 191 alt =  11.06 RH = 49.4312  P=  242.28 T = -45.2782 esat= 10.6125 pwv= 0.00029954 sumpwv= 0.543121\n",
      "iz 192 alt =  11.12 RH = 48.6196  P=  240.091 T = -45.6186 esat= 10.2238 pwv= 0.000284253 sumpwv= 0.543405\n",
      "iz 193 alt =  11.18 RH = 47.8079  P=  237.923 T = -45.959 esat= 9.84801 pwv= 0.000269639 sumpwv= 0.543675\n",
      "iz 194 alt =  11.24 RH = 46.9962  P=  235.774 T = -46.2993 esat= 9.48484 pwv= 0.00025567 sumpwv= 0.543931\n",
      "iz 195 alt =  11.3 RH = 46.1845  P=  233.645 T = -46.6397 esat= 9.13389 pwv= 0.000242321 sumpwv= 0.544173\n",
      "iz 196 alt =  11.36 RH = 45.3729  P=  231.535 T = -46.9801 esat= 8.7948 pwv= 0.00022957 sumpwv= 0.544402\n",
      "iz 197 alt =  11.42 RH = 44.5612  P=  229.443 T = -47.3205 esat= 8.46719 pwv= 0.000217392 sumpwv= 0.54462\n",
      "iz 198 alt =  11.48 RH = 43.7495  P=  227.371 T = -47.6609 esat= 8.15072 pwv= 0.000205765 sumpwv= 0.544826\n",
      "iz 199 alt =  11.54 RH = 42.9378  P=  225.318 T = -48.0013 esat= 7.84504 pwv= 0.000194668 sumpwv= 0.54502\n",
      "iz 200 alt =  11.6 RH = 42.1262  P=  223.283 T = -48.3417 esat= 7.54984 pwv= 0.00018408 sumpwv= 0.545204\n",
      "iz 201 alt =  11.66 RH = 41.3145  P=  221.266 T = -48.6821 esat= 7.26477 pwv= 0.00017398 sumpwv= 0.545378\n",
      "iz 202 alt =  11.72 RH = 40.5028  P=  219.268 T = -49.0225 esat= 6.98953 pwv= 0.000164349 sumpwv= 0.545543\n",
      "iz 203 alt =  11.78 RH = 39.6911  P=  217.287 T = -49.3629 esat= 6.72382 pwv= 0.000155169 sumpwv= 0.545698\n",
      "iz 204 alt =  11.84 RH = 38.8795  P=  215.325 T = -49.7033 esat= 6.4673 pwv= 0.00014642 sumpwv= 0.545844\n",
      "iz 205 alt =  11.9 RH = 38.0678  P=  213.38 T = -50.0437 esat= 6.21976 pwv= 0.000138086 sumpwv= 0.545982\n",
      "iz 206 alt =  11.96 RH = 37.2561  P=  211.453 T = -50.3841 esat= 5.98087 pwv= 0.00013015 sumpwv= 0.546113\n",
      "iz 207 alt =  12.02 RH = 36.4444  P=  209.543 T = -50.7245 esat= 5.75035 pwv= 0.000122595 sumpwv= 0.546235\n"
     ]
    }
   ],
   "source": [
    "naltslices=len(humidity)\n",
    "esat=hum.esat(temperatures+273.)\n",
    "pwv=hum.rh2ah(humidity/100.,pressures*100.,temperatures+273.)*60./10 # don't know why need to devide by 10 ???\n",
    "pwvcut=pwv\n",
    "pwvcut[np.where(thealtitudes<2.68)]=0\n",
    "sumpwv=np.cumsum(pwvcut)\n",
    "for iz in range(0,naltslices):\n",
    "   \n",
    "    \n",
    "    print 'iz',iz, 'alt = ',thealtitudes[iz],'RH =',humidity[iz] ,' P= ',pressures[iz],'T =',temperatures[iz],'esat=',esat[iz],\\\n",
    "    'pwv=',pwv[iz],'sumpwv=',sumpwv[iz]\n",
    "    "
   ]
  },
  {
   "cell_type": "code",
   "execution_count": null,
   "metadata": {
    "collapsed": true
   },
   "outputs": [],
   "source": []
  }
 ],
 "metadata": {
  "kernelspec": {
   "display_name": "Python 2",
   "language": "python",
   "name": "python2"
  },
  "language_info": {
   "codemirror_mode": {
    "name": "ipython",
    "version": 2
   },
   "file_extension": ".py",
   "mimetype": "text/x-python",
   "name": "python",
   "nbconvert_exporter": "python",
   "pygments_lexer": "ipython2",
   "version": "2.7.11"
  }
 },
 "nbformat": 4,
 "nbformat_minor": 0
}
