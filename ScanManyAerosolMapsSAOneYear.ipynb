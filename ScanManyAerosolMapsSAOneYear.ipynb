{
 "cells": [
  {
   "cell_type": "markdown",
   "metadata": {},
   "source": [
    "# Scan world aerosols during one year and look to different kinds of aerosols\n",
    "\n",
    "- Author :Sylvie Dagoret-Campagne\n",
    "- affiliation : LAL,IN2P3,CNRS\n",
    "- organization : LSST \n",
    "\n",
    "- creation : Monday 25th April 2016"
   ]
  },
  {
   "cell_type": "code",
   "execution_count": 97,
   "metadata": {
    "collapsed": true
   },
   "outputs": [],
   "source": [
    "import os\n",
    "import matplotlib as mpl\n",
    "import matplotlib.pyplot as plt\n",
    "import numpy as np\n",
    "from mpl_toolkits.basemap import Basemap\n",
    "from matplotlib import colors\n",
    "from matplotlib.backends.backend_pdf import PdfPages\n",
    "import pandas as pd\n",
    "import h5py\n",
    "%matplotlib inline\n",
    "from mpl_toolkits.basemap import Basemap\n",
    "import matplotlib.pyplot as plt"
   ]
  },
  {
   "cell_type": "code",
   "execution_count": 98,
   "metadata": {
    "collapsed": false
   },
   "outputs": [],
   "source": [
    "year_number=2007   # choose the month number\n",
    "month_start=0      # choose first month\n",
    "month_stop=11      # choose last month\n",
    "month_numbers=np.arange(month_start,month_stop+1)\n",
    "month_stringnumber=['01','02','03','04','05','06','07','08','09','10','11','12']\n",
    "number_of_monthes=month_numbers.shape[0]"
   ]
  },
  {
   "cell_type": "code",
   "execution_count": 99,
   "metadata": {
    "collapsed": false
   },
   "outputs": [],
   "source": [
    "path_root='/Users/dagoret-campagnesylvie/MacOsX/LSST/MyWork/CALIPSO/DATA/ICARE/CALIOP/L3/CAL_LID_L3_APro_AllSky.v3.00/CAL_LID_L3_APro_AllSky.v3.00'\n",
    "fullpath_root=os.path.join(os.path.join(path_root,str(year_number)),'hdf5')"
   ]
  },
  {
   "cell_type": "code",
   "execution_count": 100,
   "metadata": {
    "collapsed": true
   },
   "outputs": [],
   "source": [
    "filename_base='CAL_LID_L3_APro_AllSky-Standard-V3-00' # "
   ]
  },
  {
   "cell_type": "markdown",
   "metadata": {},
   "source": [
    "### Specify Input Filenames\n",
    "- day-  : CAL_LID_L3_APro_AllSky-Standard-V3-00.2006-06D.h5\n",
    "- night : CAL_LID_L3_APro_AllSky-Standard-V3-00.2006-06N.h5"
   ]
  },
  {
   "cell_type": "code",
   "execution_count": 101,
   "metadata": {
    "collapsed": false
   },
   "outputs": [],
   "source": [
    "dayfile_extension= [ str(year_number)+'-'+month_stringnumber[ix]+'D'+'.h5' for ix in month_numbers]"
   ]
  },
  {
   "cell_type": "code",
   "execution_count": 102,
   "metadata": {
    "collapsed": false
   },
   "outputs": [],
   "source": [
    "nightfile_extension= [ str(year_number)+'-'+month_stringnumber[ix]+'N'+'.h5' for ix in month_numbers]"
   ]
  },
  {
   "cell_type": "code",
   "execution_count": 103,
   "metadata": {
    "collapsed": false
   },
   "outputs": [],
   "source": [
    "dayfiles_fullname=[os.path.join(fullpath_root,filename_base+'.'+dayfile_extension[ix]) for ix in month_numbers ]"
   ]
  },
  {
   "cell_type": "code",
   "execution_count": 104,
   "metadata": {
    "collapsed": false
   },
   "outputs": [],
   "source": [
    "nightfiles_fullname=[os.path.join(fullpath_root, filename_base+'.'+nightfile_extension[ix]) for ix in month_numbers]"
   ]
  },
  {
   "cell_type": "code",
   "execution_count": 105,
   "metadata": {
    "collapsed": false
   },
   "outputs": [],
   "source": [
    "# /Users/dagoret-campagnesylvie/MacOsX/LSST/MyWork/CALIPSO/DATA/ICARE/CALIOP/L3/CAL_LID_L3_APro_AllSky.v3.00/CAL_LID_L3_APro_AllSky.v3.00/2015/hdf5\n",
    "#dayfiles_fullname"
   ]
  },
  {
   "cell_type": "markdown",
   "metadata": {},
   "source": [
    "### defines pdf output filename containing plots"
   ]
  },
  {
   "cell_type": "code",
   "execution_count": 106,
   "metadata": {
    "collapsed": false
   },
   "outputs": [],
   "source": [
    "filename_pdf='all_aerosol_worldmap_year_'+str(year_number)+'.pdf'"
   ]
  },
  {
   "cell_type": "code",
   "execution_count": 107,
   "metadata": {
    "collapsed": true
   },
   "outputs": [],
   "source": [
    "pp = PdfPages(filename_pdf)"
   ]
  },
  {
   "cell_type": "markdown",
   "metadata": {},
   "source": [
    "### LSST site"
   ]
  },
  {
   "cell_type": "code",
   "execution_count": 108,
   "metadata": {
    "collapsed": true
   },
   "outputs": [],
   "source": [
    "#LSST site\n",
    "Longitude_lsst = -70.7366833333333 # deg\n",
    "Latitude_lsst = -30.240741666666672 #deg\n",
    "Altitude_lsst = 2749.999999999238 #m"
   ]
  },
  {
   "cell_type": "markdown",
   "metadata": {},
   "source": [
    "## work on first file, reading the data and showing the map for a first test\n",
    "\n",
    "\n",
    "It set also variables usefull for the loop"
   ]
  },
  {
   "cell_type": "code",
   "execution_count": 109,
   "metadata": {
    "collapsed": true
   },
   "outputs": [],
   "source": [
    "fileindex=0"
   ]
  },
  {
   "cell_type": "code",
   "execution_count": 110,
   "metadata": {
    "collapsed": false
   },
   "outputs": [],
   "source": [
    "h5f = h5py.File(dayfiles_fullname[fileindex], \"r\")  # file on which one works"
   ]
  },
  {
   "cell_type": "code",
   "execution_count": 111,
   "metadata": {
    "collapsed": false
   },
   "outputs": [],
   "source": [
    "longitude=h5f['Longitude_Midpoint']   # shape =(1,72)\n",
    "all_longitude=longitude[0,:]    # coordinates for X"
   ]
  },
  {
   "cell_type": "code",
   "execution_count": 112,
   "metadata": {
    "collapsed": true
   },
   "outputs": [],
   "source": [
    "latitude=h5f['Latitude_Midpoint']     # shape = (1,85)\n",
    "all_latitude=latitude[0,:]      # coordinate for Y"
   ]
  },
  {
   "cell_type": "code",
   "execution_count": 113,
   "metadata": {
    "collapsed": true
   },
   "outputs": [],
   "source": [
    "X,Y=np.meshgrid(all_longitude,all_latitude) # defines the mesh for the map"
   ]
  },
  {
   "cell_type": "code",
   "execution_count": 114,
   "metadata": {
    "collapsed": false
   },
   "outputs": [],
   "source": [
    "aod_mean=h5f['AOD_Mean']  # the data table we want to explore is the Aerosol Optical Depth\n",
    "                          # 85 rows in latitude, 70 columns in longitude\n",
    "aod_arr=np.array(aod_mean)  # convert in a numpy array\n",
    "aod_mean_clean=np.where(np.logical_and(aod_arr>0,aod_arr<1),aod_arr, 0 )  # clean the aod from creazy data    "
   ]
  },
  {
   "cell_type": "code",
   "execution_count": 115,
   "metadata": {
    "collapsed": false
   },
   "outputs": [],
   "source": [
    "#all aerosols\n",
    "#------------\n",
    "aod_mean=h5f['AOD_Mean']  # the data table we want to explore is the Aerosol Optical Depth\n",
    "                          # 85 rows in latitude, 70 columns in longitude\n",
    "aod_shape=aod_mean.shape    # get the original size of the array\n",
    "aod_arr=np.array(aod_mean)  # convert in a numpy array\n",
    "aod_mean_clean=np.where(np.logical_and(aod_arr>0,aod_arr<1),aod_arr, 0 )  # clean the aod from creazy data\n",
    "\n",
    "# dust aerosols\n",
    "#--------------\n",
    "aod_dust=h5f['AOD_Mean_Dust']  # the data table we want to explore is the Aerosol Optical Depth\n",
    "                          # 85 rows in latitude, 70 columns in longitude\n",
    "dust_arr=np.array(aod_dust)  # convert in a numpy array\n",
    "aod_dust_clean=np.where(np.logical_and(dust_arr>0,dust_arr<1),dust_arr, 0 )  # clean the aod from creazy data\n",
    "\n",
    "# dust polluted aerosols\n",
    "#-----------------------\n",
    "aod_polluteddust=h5f['AOD_Mean_Polluted_Dust']  # the data table we want to explore is the Aerosol Optical Depth\n",
    "                          # 85 rows in latitude, 70 columns in longitude\n",
    "polluteddust_arr=np.array(aod_polluteddust)  # convert in a numpy array\n",
    "aod_polluteddust_clean=np.where(np.logical_and(polluteddust_arr>0,polluteddust_arr<1),polluteddust_arr, 0 )  # clean the aod from creazy data\n",
    " \n",
    "# smoke aerosols\n",
    "#----------------\n",
    "aod_smoke=h5f['AOD_Mean_Smoke']  # the data table we want to explore is the Aerosol Optical Depth\n",
    "                          # 85 rows in latitude, 70 columns in longitude\n",
    "smoke_arr=np.array(aod_smoke)  # convert in a numpy array\n",
    "aod_smoke_clean=np.where(np.logical_and(smoke_arr>0,smoke_arr<1),smoke_arr, 0 )  # clean the aod from creazy data\n"
   ]
  },
  {
   "cell_type": "code",
   "execution_count": 116,
   "metadata": {
    "collapsed": true
   },
   "outputs": [],
   "source": [
    "h5f.close()"
   ]
  },
  {
   "cell_type": "code",
   "execution_count": 117,
   "metadata": {
    "collapsed": false
   },
   "outputs": [],
   "source": [
    "fig=plt.figure(figsize=(18,9))\n",
    "#fig.subplots_adjust(wspace='None',hspace='None',left='None',right='None',top='None',bottom='None')\n",
    "\n",
    "\n",
    "ax1=fig.add_subplot(2,2,1)\n",
    "map = Basemap()\n",
    "map.drawcoastlines(color=\"white\")\n",
    "map.drawcountries(color=\"black\")\n",
    "img=map.contourf(X, Y, aod_mean_clean,100,cmap='hot')\n",
    "map.colorbar(img,\"right\", size=\"5%\", pad=\"2%\")\n",
    "map.drawparallels(np.arange(-40,61.,15.),labels=[True,False,False,False])\n",
    "map.drawmeridians(np.arange(-180.,180.,15.),labels=[True,False,False,True])\n",
    "xpt_lsst,ypt_lsst = map(Longitude_lsst,Latitude_lsst)\n",
    "map.plot(xpt_lsst,ypt_lsst,'bo',markersize=10)  # plot a red dot there\n",
    "#plt.text(xpt_lsst-100000,ypt_lsst-200000,'LSST (%5.1fW,%3.1fN)' % (Longitude_lsst,Latitude_lsst),color='red', fontsize=15)\n",
    "title = \"All Aerosol Optical Depth  Year %s Month %s Day time\" % (year_number, month_stringnumber[fileindex])\n",
    "ax1.set_title(title)\n",
    "#ax1.savefig(pp, format='pdf')\n",
    "ax1.plot()\n",
    "\n",
    "ax2=fig.add_subplot(2,2,2)\n",
    "map = Basemap()\n",
    "map.drawcoastlines(color=\"white\")\n",
    "map.drawcountries(color=\"black\")\n",
    "img=map.contourf(X, Y, aod_dust_clean,100,cmap='hot')\n",
    "map.colorbar(img,\"right\", size=\"5%\", pad=\"2%\")\n",
    "map.drawparallels(np.arange(-40,61.,15.),labels=[True,False,False,False])\n",
    "map.drawmeridians(np.arange(-180.,180.,15.),labels=[True,False,False,True])\n",
    "xpt_lsst,ypt_lsst = map(Longitude_lsst,Latitude_lsst)\n",
    "map.plot(xpt_lsst,ypt_lsst,'bo',markersize=10)  # plot a red dot there\n",
    "#plt.text(xpt_lsst-100000,ypt_lsst-200000,'LSST (%5.1fW,%3.1fN)' % (Longitude_lsst,Latitude_lsst),color='red', fontsize=15)\n",
    "title = \"Dust Aerosol Optical Depth  Year %s Month %s Day time\" % (year_number, month_stringnumber[fileindex])\n",
    "ax2.set_title(title)\n",
    "#ax2.savefig(pp, format='pdf')\n",
    "ax2.plot()\n",
    "\n",
    "\n",
    "ax3=fig.add_subplot(2,2,3)\n",
    "map = Basemap()\n",
    "map.drawcoastlines(color=\"white\")\n",
    "map.drawcountries(color=\"black\")\n",
    "img=map.contourf(X, Y, aod_polluteddust_clean,100,cmap='hot')\n",
    "map.colorbar(img,\"right\", size=\"5%\", pad=\"2%\")\n",
    "map.drawparallels(np.arange(-40,61.,15.),labels=[True,False,False,False])\n",
    "map.drawmeridians(np.arange(-180.,180.,15.),labels=[True,False,False,True])\n",
    "xpt_lsst,ypt_lsst = map(Longitude_lsst,Latitude_lsst)\n",
    "map.plot(xpt_lsst,ypt_lsst,'bo',markersize=10)  # plot a red dot there\n",
    "#plt.text(xpt_lsst-100000,ypt_lsst-200000,'LSST (%5.1fW,%3.1fN)' % (Longitude_lsst,Latitude_lsst),color='red', fontsize=15)\n",
    "title = \"Polluted dust Aerosol Optical Depth  Year %s Month %s Day time\" % (year_number, month_stringnumber[fileindex])\n",
    "ax3.set_title(title)\n",
    "#ax3.savefig(pp, format='pdf')\n",
    "ax3.plot()\n",
    "\n",
    "ax4=fig.add_subplot(2,2,4)\n",
    "map = Basemap()\n",
    "map.drawcoastlines(color=\"white\")\n",
    "map.drawcountries(color=\"black\")\n",
    "img=map.contourf(X, Y, aod_smoke_clean,100,cmap='hot')\n",
    "map.colorbar(img,\"right\", size=\"5%\", pad=\"2%\")\n",
    "map.drawparallels(np.arange(-40,61.,15.),labels=[True,False,False,False])\n",
    "map.drawmeridians(np.arange(-180.,180.,15.),labels=[True,False,False,True])\n",
    "xpt_lsst,ypt_lsst = map(Longitude_lsst,Latitude_lsst)\n",
    "map.plot(xpt_lsst,ypt_lsst,'bo',markersize=10)  # plot a red dot there\n",
    "#plt.text(xpt_lsst-100000,ypt_lsst-200000,'LSST (%5.1fW,%3.1fN)' % (Longitude_lsst,Latitude_lsst),color='red', fontsize=15)\n",
    "title = \"Smoke Aerosol Optical Depth  Year %d Month %s Day time\" % (year_number, month_stringnumber[fileindex])\n",
    "ax4.set_title(title)\n",
    "#ax4.savefig(pp, format='pdf')\n",
    "ax4.plot()\n",
    "\n",
    "figfilename=\"Images/WORLDMAPSAODY%d%sDay.pdf\" %(year_number,month_stringnumber[fileindex])\n",
    "plt.savefig(figfilename, bbox_inches='tight')\n",
    "plt.close(fig)\n",
    "\n"
   ]
  },
  {
   "cell_type": "markdown",
   "metadata": {},
   "source": [
    "## Loop to Open files, reading the data and showing the map"
   ]
  },
  {
   "cell_type": "code",
   "execution_count": 118,
   "metadata": {
    "collapsed": false
   },
   "outputs": [],
   "source": [
    "for imonth in month_numbers:\n",
    "    \n",
    "    \n",
    "    message= \">>>> Year %d Month %s Day File %s : \" %(year_number,month_stringnumber[imonth],dayfiles_fullname[imonth])\n",
    "    \n",
    "    \n",
    "    \n",
    "    # Start with day time\n",
    "    #---------------------\n",
    "    h5fday = h5py.File(dayfiles_fullname[imonth], \"r\")  # file on which one works\n",
    "    aod_mean_day=h5fday['AOD_Mean']  # the data table we want to explore is the Aerosol Optical Depth\n",
    "                          # 85 rows in latitude, 70 columns in longitude\n",
    "    aod_arr_day=np.array(aod_mean_day)  # convert in a numpy array\n",
    "    aod_mean_clean_day=np.where(np.logical_and(aod_arr_day>0,aod_arr_day<1),aod_arr_day, 0 )  # clean the aod from creazy data \n",
    "    \n",
    "    #all aerosols\n",
    "    #------------\n",
    "    aod_mean=h5fday['AOD_Mean']  # the data table we want to explore is the Aerosol Optical Depth\n",
    "                          # 85 rows in latitude, 70 columns in longitude\n",
    "    aod_arr=np.array(aod_mean)  # convert in a numpy array\n",
    "    aod_mean_clean_day=np.where(np.logical_and(aod_arr>0,aod_arr<1),aod_arr, 0 )  # clean the aod from creazy data\n",
    "\n",
    "    # dust aerosols\n",
    "    #--------------\n",
    "    aod_dust=h5fday['AOD_Mean_Dust']  # the data table we want to explore is the Aerosol Optical Depth\n",
    "                          # 85 rows in latitude, 70 columns in longitude\n",
    "    dust_arr=np.array(aod_dust)  # convert in a numpy array\n",
    "    aod_dust_clean_day=np.where(np.logical_and(dust_arr>0,dust_arr<1),dust_arr, 0 )  # clean the aod from creazy data\n",
    "\n",
    "    # dust polluted aerosols\n",
    "    #-----------------------\n",
    "    aod_polluteddust=h5fday['AOD_Mean_Polluted_Dust']  # the data table we want to explore is the Aerosol Optical Depth\n",
    "                          # 85 rows in latitude, 70 columns in longitude\n",
    "    polluteddust_arr=np.array(aod_polluteddust)  # convert in a numpy array\n",
    "    aod_polluteddust_clean_day=np.where(np.logical_and(polluteddust_arr>0,polluteddust_arr<1),polluteddust_arr, 0 )  # clean the aod from creazy data\n",
    " \n",
    "    # smoke aerosols\n",
    "    #----------------\n",
    "    aod_smoke=h5fday['AOD_Mean_Smoke']  # the data table we want to explore is the Aerosol Optical Depth\n",
    "                          # 85 rows in latitude, 70 columns in longitude\n",
    "    smoke_arr=np.array(aod_smoke)  # convert in a numpy array\n",
    "    aod_smoke_clean_day=np.where(np.logical_and(smoke_arr>0,smoke_arr<1),smoke_arr, 0 )  # clean the aod from creazy data\n",
    "\n",
    "    #close input file\n",
    "    h5fday.close()\n",
    "    \n",
    "    \n",
    "    # Start with night time\n",
    "    #---------------------\n",
    "    \n",
    "    message= \">>>> Year %d Month %s Night File %s : \" %(year_number,month_stringnumber[imonth],nightfiles_fullname[imonth])\n",
    "    \n",
    "    h5fnight = h5py.File(nightfiles_fullname[imonth], \"r\")  # file on which one works\n",
    "\n",
    "    \n",
    "    #all aerosols\n",
    "    #------------\n",
    "    aod_mean=h5fnight['AOD_Mean']  # the data table we want to explore is the Aerosol Optical Depth\n",
    "                          # 85 rows in latitude, 70 columns in longitude\n",
    "    aod_arr=np.array(aod_mean)  # convert in a numpy array\n",
    "    aod_mean_clean_night=np.where(np.logical_and(aod_arr>0,aod_arr<1),aod_arr, 0 )  # clean the aod from creazy data\n",
    "\n",
    "    # dust aerosols\n",
    "    #--------------\n",
    "    aod_dust=h5fnight['AOD_Mean_Dust']  # the data table we want to explore is the Aerosol Optical Depth\n",
    "                          # 85 rows in latitude, 70 columns in longitude\n",
    "    dust_arr=np.array(aod_dust)  # convert in a numpy array\n",
    "    aod_dust_clean_night=np.where(np.logical_and(dust_arr>0,dust_arr<1),dust_arr, 0 )  # clean the aod from creazy data\n",
    "\n",
    "    # dust polluted aerosols\n",
    "    #-----------------------\n",
    "    aod_polluteddust=h5fnight['AOD_Mean_Polluted_Dust']  # the data table we want to explore is the Aerosol Optical Depth\n",
    "                          # 85 rows in latitude, 70 columns in longitude\n",
    "    polluteddust_arr=np.array(aod_polluteddust)  # convert in a numpy array\n",
    "    aod_polluteddust_clean_night=np.where(np.logical_and(polluteddust_arr>0,polluteddust_arr<1),polluteddust_arr, 0 )  # clean the aod from creazy data\n",
    " \n",
    "    # smoke aerosols\n",
    "    #----------------\n",
    "    aod_smoke=h5fnight['AOD_Mean_Smoke']  # the data table we want to explore is the Aerosol Optical Depth\n",
    "                          # 85 rows in latitude, 70 columns in longitude\n",
    "    smoke_arr=np.array(aod_smoke)  # convert in a numpy array\n",
    "    aod_smoke_clean_night=np.where(np.logical_and(smoke_arr>0,smoke_arr<1),smoke_arr, 0 )  # clean the aod from creazy data \n",
    "    \n",
    "    \n",
    "    h5fnight.close()\n",
    "  \n",
    "\n",
    "\n",
    "    # day map for this month\n",
    "    #------------------------\n",
    "\n",
    "    fig=plt.figure(figsize=(18,9))\n",
    "    #fig.subplots_adjust(wspace='None',hspace='None',left='None',right='None',top='None',bottom='None')\n",
    "\n",
    "\n",
    "    ax1=fig.add_subplot(2,2,1)\n",
    "    map = Basemap()\n",
    "    map.drawcoastlines(color=\"white\")\n",
    "    map.drawcountries(color=\"black\")\n",
    "    img=map.contourf(X, Y, aod_mean_clean_day,100,cmap='hot')\n",
    "    map.colorbar(img,\"right\", size=\"5%\", pad=\"2%\")\n",
    "    map.drawparallels(np.arange(-40,61.,15.),labels=[True,False,False,False])\n",
    "    map.drawmeridians(np.arange(-180.,180.,15.),labels=[True,False,False,True])\n",
    "    xpt_lsst,ypt_lsst = map(Longitude_lsst,Latitude_lsst)\n",
    "    map.plot(xpt_lsst,ypt_lsst,'bo',markersize=10)  # plot a red dot there\n",
    "    #plt.text(xpt_lsst-100000,ypt_lsst-200000,'LSST (%5.1fW,%3.1fN)' % (Longitude_lsst,Latitude_lsst),color='red', fontsize=15)\n",
    "    title = \"All Aerosol Optical Depth  Year %s Month %s Day time\" % (year_number, month_stringnumber[imonth])\n",
    "    ax1.set_title(title)\n",
    "    #ax1.savefig(pp, format='pdf')\n",
    "    ax1.plot()\n",
    "\n",
    "    ax2=fig.add_subplot(2,2,2)\n",
    "    map = Basemap()\n",
    "    map.drawcoastlines(color=\"white\")\n",
    "    map.drawcountries(color=\"black\")\n",
    "    img=map.contourf(X, Y, aod_dust_clean_day,100,cmap='hot')\n",
    "    map.colorbar(img,\"right\", size=\"5%\", pad=\"2%\")\n",
    "    map.drawparallels(np.arange(-40,61.,15.),labels=[True,False,False,False])\n",
    "    map.drawmeridians(np.arange(-180.,180.,15.),labels=[True,False,False,True])\n",
    "    xpt_lsst,ypt_lsst = map(Longitude_lsst,Latitude_lsst)\n",
    "    map.plot(xpt_lsst,ypt_lsst,'bo',markersize=10)  # plot a red dot there\n",
    "    #plt.text(xpt_lsst-100000,ypt_lsst-200000,'LSST (%5.1fW,%3.1fN)' % (Longitude_lsst,Latitude_lsst),color='red', fontsize=15)\n",
    "    title = \"Dust Aerosol Optical Depth  Year %s Month %s Day time\" % (year_number, month_stringnumber[imonth])\n",
    "    ax2.set_title(title)\n",
    "    #ax2.savefig(pp, format='pdf')\n",
    "    ax2.plot()\n",
    "\n",
    "\n",
    "    ax3=fig.add_subplot(2,2,3)\n",
    "    map = Basemap()\n",
    "    map.drawcoastlines(color=\"white\")\n",
    "    map.drawcountries(color=\"black\")\n",
    "    img=map.contourf(X, Y, aod_polluteddust_clean_day,100,cmap='hot')\n",
    "    map.colorbar(img,\"right\", size=\"5%\", pad=\"2%\")\n",
    "    map.drawparallels(np.arange(-40,61.,15.),labels=[True,False,False,False])\n",
    "    map.drawmeridians(np.arange(-180.,180.,15.),labels=[True,False,False,True])\n",
    "    xpt_lsst,ypt_lsst = map(Longitude_lsst,Latitude_lsst)\n",
    "    map.plot(xpt_lsst,ypt_lsst,'bo',markersize=10)  # plot a red dot there\n",
    "    #plt.text(xpt_lsst-100000,ypt_lsst-200000,'LSST (%5.1fW,%3.1fN)' % (Longitude_lsst,Latitude_lsst),color='red', fontsize=15)\n",
    "    title = \"Polluted dust Aerosol Optical Depth  Year %s Month %s Day time\" % (year_number, month_stringnumber[imonth])\n",
    "    ax3.set_title(title)\n",
    "    #ax3.savefig(pp, format='pdf')\n",
    "    ax3.plot()\n",
    "\n",
    "    ax4=fig.add_subplot(2,2,4)\n",
    "    map = Basemap()\n",
    "    map.drawcoastlines(color=\"white\")\n",
    "    map.drawcountries(color=\"black\")\n",
    "    img=map.contourf(X, Y, aod_smoke_clean_day,100,cmap='hot')\n",
    "    map.colorbar(img,\"right\", size=\"5%\", pad=\"2%\")\n",
    "    map.drawparallels(np.arange(-40,61.,15.),labels=[True,False,False,False])\n",
    "    map.drawmeridians(np.arange(-180.,180.,15.),labels=[True,False,False,True])\n",
    "    xpt_lsst,ypt_lsst = map(Longitude_lsst,Latitude_lsst)\n",
    "    map.plot(xpt_lsst,ypt_lsst,'bo',markersize=10)  # plot a red dot there\n",
    "    #plt.text(xpt_lsst-100000,ypt_lsst-200000,'LSST (%5.1fW,%3.1fN)' % (Longitude_lsst,Latitude_lsst),color='red', fontsize=15)\n",
    "    title = \"Smoke Aerosol Optical Depth  Year %s Month %s Day time\" % (year_number, month_stringnumber[imonth])\n",
    "    ax4.set_title(title)\n",
    "    #ax4.savefig(pp, format='pdf')\n",
    "    ax4.plot()\n",
    "    \n",
    "    figfilename=\"Images/WORLDMAPSAODY%d%sDay.pdf\" %(year_number,month_stringnumber[imonth])\n",
    "    plt.savefig(figfilename, bbox_inches='tight')\n",
    "    plt.close(fig)\n",
    "    #fig.close()\n",
    "    \n",
    "    \n",
    "     # night map for this month\n",
    "    #------------------------\n",
    "\n",
    "    fig=plt.figure(figsize=(18,9))\n",
    "    #fig.subplots_adjust(wspace='None',hspace='None',left='None',right='None',top='None',bottom='None')\n",
    "\n",
    "\n",
    "    ax1=fig.add_subplot(2,2,1)\n",
    "    map = Basemap()\n",
    "    map.drawcoastlines(color=\"white\")\n",
    "    map.drawcountries(color=\"black\")\n",
    "    img=map.contourf(X, Y, aod_mean_clean_night,100,cmap='hot')\n",
    "    map.colorbar(img,\"right\", size=\"5%\", pad=\"2%\")\n",
    "    map.drawparallels(np.arange(-40,61.,15.),labels=[True,False,False,False])\n",
    "    map.drawmeridians(np.arange(-180.,180.,15.),labels=[True,False,False,True])\n",
    "    xpt_lsst,ypt_lsst = map(Longitude_lsst,Latitude_lsst)\n",
    "    map.plot(xpt_lsst,ypt_lsst,'bo',markersize=10)  # plot a red dot there\n",
    "    #plt.text(xpt_lsst-100000,ypt_lsst-200000,'LSST (%5.1fW,%3.1fN)' % (Longitude_lsst,Latitude_lsst),color='red', fontsize=15)\n",
    "    title = \"All Aerosol Optical Depth  Year %s Month %s Night time\" % (year_number, month_stringnumber[imonth])\n",
    "    ax1.set_title(title)\n",
    "    #ax1.savefig(pp, format='pdf')\n",
    "    ax1.plot()\n",
    "\n",
    "    ax2=fig.add_subplot(2,2,2)\n",
    "    map = Basemap()\n",
    "    map.drawcoastlines(color=\"white\")\n",
    "    map.drawcountries(color=\"black\")\n",
    "    img=map.contourf(X, Y, aod_dust_clean_night,100,cmap='hot')\n",
    "    map.colorbar(img,\"right\", size=\"5%\", pad=\"2%\")\n",
    "    map.drawparallels(np.arange(-40,61.,15.),labels=[True,False,False,False])\n",
    "    map.drawmeridians(np.arange(-180.,180.,15.),labels=[True,False,False,True])\n",
    "    xpt_lsst,ypt_lsst = map(Longitude_lsst,Latitude_lsst)\n",
    "    map.plot(xpt_lsst,ypt_lsst,'bo',markersize=10)  # plot a red dot there\n",
    "    #plt.text(xpt_lsst-100000,ypt_lsst-200000,'LSST (%5.1fW,%3.1fN)' % (Longitude_lsst,Latitude_lsst),color='red', fontsize=15)\n",
    "    title = \"Dust Aerosol Optical Depth  Year %s Month %s Night time\" % (year_number, month_stringnumber[imonth])\n",
    "    ax2.set_title(title)\n",
    "    #ax2.savefig(pp, format='pdf')\n",
    "    ax2.plot()\n",
    "\n",
    "\n",
    "    ax3=fig.add_subplot(2,2,3)\n",
    "    map = Basemap()\n",
    "    map.drawcoastlines(color=\"white\")\n",
    "    map.drawcountries(color=\"black\")\n",
    "    img=map.contourf(X, Y, aod_polluteddust_clean_night,100,cmap='hot')\n",
    "    map.colorbar(img,\"right\", size=\"5%\", pad=\"2%\")\n",
    "    map.drawparallels(np.arange(-40,61.,15.),labels=[True,False,False,False])\n",
    "    map.drawmeridians(np.arange(-180.,180.,15.),labels=[True,False,False,True])\n",
    "    xpt_lsst,ypt_lsst = map(Longitude_lsst,Latitude_lsst)\n",
    "    map.plot(xpt_lsst,ypt_lsst,'bo',markersize=10)  # plot a red dot there\n",
    "    #plt.text(xpt_lsst-100000,ypt_lsst-200000,'LSST (%5.1fW,%3.1fN)' % (Longitude_lsst,Latitude_lsst),color='red', fontsize=15)\n",
    "    title = \"Polluted dust Aerosol Optical Depth  Year %s Month %s Night time\" % (year_number, month_stringnumber[imonth])\n",
    "    ax3.set_title(title)\n",
    "    #ax3.savefig(pp, format='pdf')\n",
    "    ax3.plot()\n",
    "\n",
    "    ax4=fig.add_subplot(2,2,4)\n",
    "    map = Basemap()\n",
    "    map.drawcoastlines(color=\"white\")\n",
    "    map.drawcountries(color=\"black\")\n",
    "    img=map.contourf(X, Y, aod_smoke_clean_night,100,cmap='hot')\n",
    "    map.colorbar(img,\"right\", size=\"5%\", pad=\"2%\")\n",
    "    map.drawparallels(np.arange(-40,61.,15.),labels=[True,False,False,False])\n",
    "    map.drawmeridians(np.arange(-180.,180.,15.),labels=[True,False,False,True])\n",
    "    xpt_lsst,ypt_lsst = map(Longitude_lsst,Latitude_lsst)\n",
    "    map.plot(xpt_lsst,ypt_lsst,'bo',markersize=10)  # plot a red dot there\n",
    "    #plt.text(xpt_lsst-100000,ypt_lsst-200000,'LSST (%5.1fW,%3.1fN)' % (Longitude_lsst,Latitude_lsst),color='red', fontsize=15)\n",
    "    title = \"Smoke Aerosol Optical Depth  Year %s Month %s Night time\" % (year_number, month_stringnumber[imonth])\n",
    "    ax4.set_title(title)\n",
    "    #ax4.savefig(pp, format='pdf')\n",
    "    ax4.plot()\n",
    "    \n",
    "    \n",
    "    figfilename=\"Images/WORLDMAPSAODY%d%sNight.pdf\" %(year_number,month_stringnumber[imonth])\n",
    "    plt.savefig(figfilename, bbox_inches='tight')\n",
    "    plt.close(fig)\n",
    "    #fig.close()\n",
    "    \n",
    "    \n",
    "    \n",
    "    \n",
    "    "
   ]
  },
  {
   "cell_type": "code",
   "execution_count": 119,
   "metadata": {
    "collapsed": true
   },
   "outputs": [],
   "source": [
    "pp.close()"
   ]
  },
  {
   "cell_type": "code",
   "execution_count": null,
   "metadata": {
    "collapsed": true
   },
   "outputs": [],
   "source": []
  }
 ],
 "metadata": {
  "kernelspec": {
   "display_name": "Python 2",
   "language": "python",
   "name": "python2"
  },
  "language_info": {
   "codemirror_mode": {
    "name": "ipython",
    "version": 2
   },
   "file_extension": ".py",
   "mimetype": "text/x-python",
   "name": "python",
   "nbconvert_exporter": "python",
   "pygments_lexer": "ipython2",
   "version": "2.7.11"
  }
 },
 "nbformat": 4,
 "nbformat_minor": 0
}
