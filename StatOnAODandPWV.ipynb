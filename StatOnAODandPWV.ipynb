{
 "cells": [
  {
   "cell_type": "markdown",
   "metadata": {},
   "source": [
    "# Statistics on aerosols and PWV\n",
    "\n",
    "- Author :Sylvie Dagoret-Campagne\n",
    "- affiliation : LAL,IN2P3,CNRS\n",
    "- organization : LSST \n",
    "- Creation date 2016 June 16th\n"
   ]
  },
  {
   "cell_type": "code",
   "execution_count": 2,
   "metadata": {
    "collapsed": true
   },
   "outputs": [],
   "source": [
    "import os\n",
    "import matplotlib as mpl\n",
    "import matplotlib.pyplot as plt\n",
    "import numpy as np\n",
    "from mpl_toolkits.basemap import Basemap\n",
    "from matplotlib import colors\n",
    "from matplotlib.backends.backend_pdf import PdfPages\n",
    "import pandas as pd"
   ]
  },
  {
   "cell_type": "code",
   "execution_count": 1,
   "metadata": {
    "collapsed": true
   },
   "outputs": [],
   "source": [
    "filename='CAL_LID_L3_APro_AllSky-Standard-V3-00_SummaryAODandPWV.csv'"
   ]
  },
  {
   "cell_type": "code",
   "execution_count": 3,
   "metadata": {
    "collapsed": true
   },
   "outputs": [],
   "source": [
    "dataset=pd.read_csv(filename)"
   ]
  },
  {
   "cell_type": "code",
   "execution_count": 4,
   "metadata": {
    "collapsed": false
   },
   "outputs": [
    {
     "data": {
      "text/html": [
       "<div>\n",
       "<table border=\"1\" class=\"dataframe\">\n",
       "  <thead>\n",
       "    <tr style=\"text-align: right;\">\n",
       "      <th></th>\n",
       "      <th>Unnamed: 0</th>\n",
       "      <th>dates</th>\n",
       "      <th>AOD_days</th>\n",
       "      <th>AOD_nights</th>\n",
       "      <th>PWV_days</th>\n",
       "      <th>PWV_nights</th>\n",
       "    </tr>\n",
       "  </thead>\n",
       "  <tbody>\n",
       "    <tr>\n",
       "      <th>0</th>\n",
       "      <td>0</td>\n",
       "      <td>2007-01-01</td>\n",
       "      <td>0.072230</td>\n",
       "      <td>0.053129</td>\n",
       "      <td>5.462354</td>\n",
       "      <td>0.332454</td>\n",
       "    </tr>\n",
       "    <tr>\n",
       "      <th>1</th>\n",
       "      <td>1</td>\n",
       "      <td>2007-02-01</td>\n",
       "      <td>0.079548</td>\n",
       "      <td>0.076607</td>\n",
       "      <td>3.444027</td>\n",
       "      <td>2.643404</td>\n",
       "    </tr>\n",
       "    <tr>\n",
       "      <th>2</th>\n",
       "      <td>2</td>\n",
       "      <td>2007-03-01</td>\n",
       "      <td>0.042279</td>\n",
       "      <td>0.103868</td>\n",
       "      <td>2.658340</td>\n",
       "      <td>2.139459</td>\n",
       "    </tr>\n",
       "    <tr>\n",
       "      <th>3</th>\n",
       "      <td>3</td>\n",
       "      <td>2007-04-01</td>\n",
       "      <td>0.103347</td>\n",
       "      <td>0.043427</td>\n",
       "      <td>3.790867</td>\n",
       "      <td>3.201135</td>\n",
       "    </tr>\n",
       "    <tr>\n",
       "      <th>4</th>\n",
       "      <td>4</td>\n",
       "      <td>2007-05-01</td>\n",
       "      <td>0.057246</td>\n",
       "      <td>0.040217</td>\n",
       "      <td>2.422375</td>\n",
       "      <td>1.689483</td>\n",
       "    </tr>\n",
       "  </tbody>\n",
       "</table>\n",
       "</div>"
      ],
      "text/plain": [
       "   Unnamed: 0       dates  AOD_days  AOD_nights  PWV_days  PWV_nights\n",
       "0           0  2007-01-01  0.072230    0.053129  5.462354    0.332454\n",
       "1           1  2007-02-01  0.079548    0.076607  3.444027    2.643404\n",
       "2           2  2007-03-01  0.042279    0.103868  2.658340    2.139459\n",
       "3           3  2007-04-01  0.103347    0.043427  3.790867    3.201135\n",
       "4           4  2007-05-01  0.057246    0.040217  2.422375    1.689483"
      ]
     },
     "execution_count": 4,
     "metadata": {},
     "output_type": "execute_result"
    }
   ],
   "source": [
    "dataset.head()"
   ]
  },
  {
   "cell_type": "code",
   "execution_count": 5,
   "metadata": {
    "collapsed": false
   },
   "outputs": [
    {
     "data": {
      "text/html": [
       "<div>\n",
       "<table border=\"1\" class=\"dataframe\">\n",
       "  <thead>\n",
       "    <tr style=\"text-align: right;\">\n",
       "      <th></th>\n",
       "      <th>Unnamed: 0</th>\n",
       "      <th>AOD_days</th>\n",
       "      <th>AOD_nights</th>\n",
       "      <th>PWV_days</th>\n",
       "      <th>PWV_nights</th>\n",
       "    </tr>\n",
       "  </thead>\n",
       "  <tbody>\n",
       "    <tr>\n",
       "      <th>count</th>\n",
       "      <td>108.00000</td>\n",
       "      <td>108.000000</td>\n",
       "      <td>108.000000</td>\n",
       "      <td>108.000000</td>\n",
       "      <td>108.000000</td>\n",
       "    </tr>\n",
       "    <tr>\n",
       "      <th>mean</th>\n",
       "      <td>53.50000</td>\n",
       "      <td>0.057488</td>\n",
       "      <td>0.062986</td>\n",
       "      <td>3.403296</td>\n",
       "      <td>2.872492</td>\n",
       "    </tr>\n",
       "    <tr>\n",
       "      <th>std</th>\n",
       "      <td>31.32092</td>\n",
       "      <td>0.028127</td>\n",
       "      <td>0.029850</td>\n",
       "      <td>1.069851</td>\n",
       "      <td>1.250200</td>\n",
       "    </tr>\n",
       "    <tr>\n",
       "      <th>min</th>\n",
       "      <td>0.00000</td>\n",
       "      <td>0.001937</td>\n",
       "      <td>0.004760</td>\n",
       "      <td>1.756672</td>\n",
       "      <td>0.332454</td>\n",
       "    </tr>\n",
       "    <tr>\n",
       "      <th>25%</th>\n",
       "      <td>26.75000</td>\n",
       "      <td>0.040534</td>\n",
       "      <td>0.041767</td>\n",
       "      <td>2.638791</td>\n",
       "      <td>1.941136</td>\n",
       "    </tr>\n",
       "    <tr>\n",
       "      <th>50%</th>\n",
       "      <td>53.50000</td>\n",
       "      <td>0.053263</td>\n",
       "      <td>0.057623</td>\n",
       "      <td>3.236731</td>\n",
       "      <td>2.698967</td>\n",
       "    </tr>\n",
       "    <tr>\n",
       "      <th>75%</th>\n",
       "      <td>80.25000</td>\n",
       "      <td>0.075217</td>\n",
       "      <td>0.075387</td>\n",
       "      <td>3.895812</td>\n",
       "      <td>3.614878</td>\n",
       "    </tr>\n",
       "    <tr>\n",
       "      <th>max</th>\n",
       "      <td>107.00000</td>\n",
       "      <td>0.140762</td>\n",
       "      <td>0.171333</td>\n",
       "      <td>6.331009</td>\n",
       "      <td>6.668858</td>\n",
       "    </tr>\n",
       "  </tbody>\n",
       "</table>\n",
       "</div>"
      ],
      "text/plain": [
       "       Unnamed: 0    AOD_days  AOD_nights    PWV_days  PWV_nights\n",
       "count   108.00000  108.000000  108.000000  108.000000  108.000000\n",
       "mean     53.50000    0.057488    0.062986    3.403296    2.872492\n",
       "std      31.32092    0.028127    0.029850    1.069851    1.250200\n",
       "min       0.00000    0.001937    0.004760    1.756672    0.332454\n",
       "25%      26.75000    0.040534    0.041767    2.638791    1.941136\n",
       "50%      53.50000    0.053263    0.057623    3.236731    2.698967\n",
       "75%      80.25000    0.075217    0.075387    3.895812    3.614878\n",
       "max     107.00000    0.140762    0.171333    6.331009    6.668858"
      ]
     },
     "execution_count": 5,
     "metadata": {},
     "output_type": "execute_result"
    }
   ],
   "source": [
    "dataset.describe()"
   ]
  },
  {
   "cell_type": "code",
   "execution_count": 7,
   "metadata": {
    "collapsed": false
   },
   "outputs": [
    {
     "data": {
      "text/html": [
       "<div>\n",
       "<table border=\"1\" class=\"dataframe\">\n",
       "  <thead>\n",
       "    <tr style=\"text-align: right;\">\n",
       "      <th></th>\n",
       "      <th>Unnamed: 0</th>\n",
       "      <th>AOD_days</th>\n",
       "      <th>AOD_nights</th>\n",
       "      <th>PWV_days</th>\n",
       "      <th>PWV_nights</th>\n",
       "    </tr>\n",
       "  </thead>\n",
       "  <tbody>\n",
       "    <tr>\n",
       "      <th>0.05</th>\n",
       "      <td>5.35</td>\n",
       "      <td>0.013106</td>\n",
       "      <td>0.029699</td>\n",
       "      <td>2.011780</td>\n",
       "      <td>1.184236</td>\n",
       "    </tr>\n",
       "    <tr>\n",
       "      <th>0.10</th>\n",
       "      <td>10.70</td>\n",
       "      <td>0.026988</td>\n",
       "      <td>0.032824</td>\n",
       "      <td>2.194021</td>\n",
       "      <td>1.472159</td>\n",
       "    </tr>\n",
       "    <tr>\n",
       "      <th>0.50</th>\n",
       "      <td>53.50</td>\n",
       "      <td>0.053263</td>\n",
       "      <td>0.057623</td>\n",
       "      <td>3.236731</td>\n",
       "      <td>2.698967</td>\n",
       "    </tr>\n",
       "    <tr>\n",
       "      <th>0.90</th>\n",
       "      <td>96.30</td>\n",
       "      <td>0.097025</td>\n",
       "      <td>0.102929</td>\n",
       "      <td>4.852901</td>\n",
       "      <td>4.676477</td>\n",
       "    </tr>\n",
       "    <tr>\n",
       "      <th>0.95</th>\n",
       "      <td>101.65</td>\n",
       "      <td>0.112520</td>\n",
       "      <td>0.123061</td>\n",
       "      <td>5.555784</td>\n",
       "      <td>5.215895</td>\n",
       "    </tr>\n",
       "  </tbody>\n",
       "</table>\n",
       "</div>"
      ],
      "text/plain": [
       "      Unnamed: 0  AOD_days  AOD_nights  PWV_days  PWV_nights\n",
       "0.05        5.35  0.013106    0.029699  2.011780    1.184236\n",
       "0.10       10.70  0.026988    0.032824  2.194021    1.472159\n",
       "0.50       53.50  0.053263    0.057623  3.236731    2.698967\n",
       "0.90       96.30  0.097025    0.102929  4.852901    4.676477\n",
       "0.95      101.65  0.112520    0.123061  5.555784    5.215895"
      ]
     },
     "execution_count": 7,
     "metadata": {},
     "output_type": "execute_result"
    }
   ],
   "source": [
    "dataset.quantile([0.05,0.1,0.5,0.9,0.95])"
   ]
  },
  {
   "cell_type": "code",
   "execution_count": null,
   "metadata": {
    "collapsed": true
   },
   "outputs": [],
   "source": []
  }
 ],
 "metadata": {
  "kernelspec": {
   "display_name": "Python 2",
   "language": "python",
   "name": "python2"
  },
  "language_info": {
   "codemirror_mode": {
    "name": "ipython",
    "version": 2
   },
   "file_extension": ".py",
   "mimetype": "text/x-python",
   "name": "python",
   "nbconvert_exporter": "python",
   "pygments_lexer": "ipython2",
   "version": "2.7.11"
  }
 },
 "nbformat": 4,
 "nbformat_minor": 0
}
